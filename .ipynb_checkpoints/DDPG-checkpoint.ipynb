{
 "cells": [
  {
   "cell_type": "markdown",
   "metadata": {},
   "source": [
    "# Deep Deterministic Policy Gradients (DDPG)\n",
    "---\n",
    "In this notebook, we train DDPG with OpenAI Gym's BipedalWalker-v2 environment.\n",
    "\n",
    "### 1. Import the Necessary Packages"
   ]
  },
  {
   "cell_type": "code",
<<<<<<< HEAD
   "execution_count": 1,
=======
<<<<<<< HEAD
   "execution_count": 1,
=======
   "execution_count": 4,
>>>>>>> d4d1eb91bd1ba513d1ca29a78b0df3f84903a00b
>>>>>>> 2a5c84fed3b031dbc88cb4492f65bdf1e0721f15
   "metadata": {},
   "outputs": [],
   "source": [
    "import gym\n",
    "import random\n",
    "import torch\n",
    "import numpy as np\n",
    "from collections import deque\n",
    "import matplotlib.pyplot as plt\n",
    "%matplotlib inline\n",
    "\n",
    "from ddpg_agent import Agent\n",
    "\n",
    "# imports for rendering outputs in Jupyter.\n",
    "from JSAnimation.IPython_display import display_animation\n",
    "from matplotlib import animation\n",
    "from IPython.display import display"
   ]
  },
  {
   "cell_type": "markdown",
   "metadata": {},
   "source": [
    "### 2. Instantiate the Environment and Agent"
   ]
  },
  {
   "cell_type": "code",
<<<<<<< HEAD
   "execution_count": 2,
=======
<<<<<<< HEAD
   "execution_count": 2,
=======
   "execution_count": 5,
>>>>>>> d4d1eb91bd1ba513d1ca29a78b0df3f84903a00b
>>>>>>> 2a5c84fed3b031dbc88cb4492f65bdf1e0721f15
   "metadata": {},
   "outputs": [
    {
     "name": "stdout",
     "output_type": "stream",
     "text": [
      "\u001b[33mWARN: gym.spaces.Box autodetected dtype as <class 'numpy.float32'>. Please provide explicit dtype.\u001b[0m\n",
      "\u001b[33mWARN: gym.spaces.Box autodetected dtype as <class 'numpy.float32'>. Please provide explicit dtype.\u001b[0m\n"
     ]
    }
   ],
   "source": [
    "env = gym.make('BipedalWalker-v2')\n",
    "env.seed(10)\n",
    "agent = Agent(state_size=env.observation_space.shape[0], action_size=env.action_space.shape[0], random_seed=10)"
   ]
  },
  {
   "cell_type": "code",
   "execution_count": 3,
   "metadata": {},
   "outputs": [
    {
     "ename": "NoSuchDisplayException",
     "evalue": "Cannot connect to \"None\"",
     "output_type": "error",
     "traceback": [
      "\u001b[0;31m---------------------------------------------------------------------------\u001b[0m",
      "\u001b[0;31mNoSuchDisplayException\u001b[0m                    Traceback (most recent call last)",
      "\u001b[0;32m<ipython-input-3-60cff1d6d7e4>\u001b[0m in \u001b[0;36m<module>\u001b[0;34m()\u001b[0m\n\u001b[0;32m----> 1\u001b[0;31m \u001b[0menv\u001b[0m\u001b[0;34m.\u001b[0m\u001b[0mrender\u001b[0m\u001b[0;34m(\u001b[0m\u001b[0mmode\u001b[0m\u001b[0;34m=\u001b[0m\u001b[0;34m'rgb_array'\u001b[0m\u001b[0;34m)\u001b[0m\u001b[0;34m\u001b[0m\u001b[0m\n\u001b[0m",
      "\u001b[0;32m~/anaconda3/envs/cv3/lib/python3.7/site-packages/gym/core.py\u001b[0m in \u001b[0;36mrender\u001b[0;34m(self, mode, **kwargs)\u001b[0m\n\u001b[1;32m    273\u001b[0m \u001b[0;34m\u001b[0m\u001b[0m\n\u001b[1;32m    274\u001b[0m     \u001b[0;32mdef\u001b[0m \u001b[0mrender\u001b[0m\u001b[0;34m(\u001b[0m\u001b[0mself\u001b[0m\u001b[0;34m,\u001b[0m \u001b[0mmode\u001b[0m\u001b[0;34m=\u001b[0m\u001b[0;34m'human'\u001b[0m\u001b[0;34m,\u001b[0m \u001b[0;34m**\u001b[0m\u001b[0mkwargs\u001b[0m\u001b[0;34m)\u001b[0m\u001b[0;34m:\u001b[0m\u001b[0;34m\u001b[0m\u001b[0m\n\u001b[0;32m--> 275\u001b[0;31m         \u001b[0;32mreturn\u001b[0m \u001b[0mself\u001b[0m\u001b[0;34m.\u001b[0m\u001b[0menv\u001b[0m\u001b[0;34m.\u001b[0m\u001b[0mrender\u001b[0m\u001b[0;34m(\u001b[0m\u001b[0mmode\u001b[0m\u001b[0;34m,\u001b[0m \u001b[0;34m**\u001b[0m\u001b[0mkwargs\u001b[0m\u001b[0;34m)\u001b[0m\u001b[0;34m\u001b[0m\u001b[0m\n\u001b[0m\u001b[1;32m    276\u001b[0m \u001b[0;34m\u001b[0m\u001b[0m\n\u001b[1;32m    277\u001b[0m     \u001b[0;32mdef\u001b[0m \u001b[0mclose\u001b[0m\u001b[0;34m(\u001b[0m\u001b[0mself\u001b[0m\u001b[0;34m)\u001b[0m\u001b[0;34m:\u001b[0m\u001b[0;34m\u001b[0m\u001b[0m\n",
      "\u001b[0;32m~/anaconda3/envs/cv3/lib/python3.7/site-packages/gym/envs/box2d/bipedal_walker.py\u001b[0m in \u001b[0;36mrender\u001b[0;34m(self, mode)\u001b[0m\n\u001b[1;32m    446\u001b[0m \u001b[0;34m\u001b[0m\u001b[0m\n\u001b[1;32m    447\u001b[0m     \u001b[0;32mdef\u001b[0m \u001b[0mrender\u001b[0m\u001b[0;34m(\u001b[0m\u001b[0mself\u001b[0m\u001b[0;34m,\u001b[0m \u001b[0mmode\u001b[0m\u001b[0;34m=\u001b[0m\u001b[0;34m'human'\u001b[0m\u001b[0;34m)\u001b[0m\u001b[0;34m:\u001b[0m\u001b[0;34m\u001b[0m\u001b[0m\n\u001b[0;32m--> 448\u001b[0;31m         \u001b[0;32mfrom\u001b[0m \u001b[0mgym\u001b[0m\u001b[0;34m.\u001b[0m\u001b[0menvs\u001b[0m\u001b[0;34m.\u001b[0m\u001b[0mclassic_control\u001b[0m \u001b[0;32mimport\u001b[0m \u001b[0mrendering\u001b[0m\u001b[0;34m\u001b[0m\u001b[0m\n\u001b[0m\u001b[1;32m    449\u001b[0m         \u001b[0;32mif\u001b[0m \u001b[0mself\u001b[0m\u001b[0;34m.\u001b[0m\u001b[0mviewer\u001b[0m \u001b[0;32mis\u001b[0m \u001b[0;32mNone\u001b[0m\u001b[0;34m:\u001b[0m\u001b[0;34m\u001b[0m\u001b[0m\n\u001b[1;32m    450\u001b[0m             \u001b[0mself\u001b[0m\u001b[0;34m.\u001b[0m\u001b[0mviewer\u001b[0m \u001b[0;34m=\u001b[0m \u001b[0mrendering\u001b[0m\u001b[0;34m.\u001b[0m\u001b[0mViewer\u001b[0m\u001b[0;34m(\u001b[0m\u001b[0mVIEWPORT_W\u001b[0m\u001b[0;34m,\u001b[0m \u001b[0mVIEWPORT_H\u001b[0m\u001b[0;34m)\u001b[0m\u001b[0;34m\u001b[0m\u001b[0m\n",
      "\u001b[0;32m~/anaconda3/envs/cv3/lib/python3.7/site-packages/gym/envs/classic_control/rendering.py\u001b[0m in \u001b[0;36m<module>\u001b[0;34m()\u001b[0m\n\u001b[1;32m     21\u001b[0m \u001b[0;34m\u001b[0m\u001b[0m\n\u001b[1;32m     22\u001b[0m \u001b[0;32mtry\u001b[0m\u001b[0;34m:\u001b[0m\u001b[0;34m\u001b[0m\u001b[0m\n\u001b[0;32m---> 23\u001b[0;31m     \u001b[0;32mfrom\u001b[0m \u001b[0mpyglet\u001b[0m\u001b[0;34m.\u001b[0m\u001b[0mgl\u001b[0m \u001b[0;32mimport\u001b[0m \u001b[0;34m*\u001b[0m\u001b[0;34m\u001b[0m\u001b[0m\n\u001b[0m\u001b[1;32m     24\u001b[0m \u001b[0;32mexcept\u001b[0m \u001b[0mImportError\u001b[0m \u001b[0;32mas\u001b[0m \u001b[0me\u001b[0m\u001b[0;34m:\u001b[0m\u001b[0;34m\u001b[0m\u001b[0m\n\u001b[1;32m     25\u001b[0m     \u001b[0mreraise\u001b[0m\u001b[0;34m(\u001b[0m\u001b[0mprefix\u001b[0m\u001b[0;34m=\u001b[0m\u001b[0;34m\"Error occured while running `from pyglet.gl import *`\"\u001b[0m\u001b[0;34m,\u001b[0m\u001b[0msuffix\u001b[0m\u001b[0;34m=\u001b[0m\u001b[0;34m\"HINT: make sure you have OpenGL install. On Ubuntu, you can run 'apt-get install python-opengl'. If you're running on a server, you may need a virtual frame buffer; something like this should work: 'xvfb-run -s \\\"-screen 0 1400x900x24\\\" python <your_script.py>'\"\u001b[0m\u001b[0;34m)\u001b[0m\u001b[0;34m\u001b[0m\u001b[0m\n",
      "\u001b[0;32m~/anaconda3/envs/cv3/lib/python3.7/site-packages/pyglet/gl/__init__.py\u001b[0m in \u001b[0;36m<module>\u001b[0;34m()\u001b[0m\n\u001b[1;32m    237\u001b[0m     \u001b[0;31m# trickery is for circular import\u001b[0m\u001b[0;34m\u001b[0m\u001b[0;34m\u001b[0m\u001b[0m\n\u001b[1;32m    238\u001b[0m     \u001b[0m_pyglet\u001b[0m\u001b[0;34m.\u001b[0m\u001b[0mgl\u001b[0m \u001b[0;34m=\u001b[0m \u001b[0m_sys\u001b[0m\u001b[0;34m.\u001b[0m\u001b[0mmodules\u001b[0m\u001b[0;34m[\u001b[0m\u001b[0m__name__\u001b[0m\u001b[0;34m]\u001b[0m\u001b[0;34m\u001b[0m\u001b[0m\n\u001b[0;32m--> 239\u001b[0;31m     \u001b[0;32mimport\u001b[0m \u001b[0mpyglet\u001b[0m\u001b[0;34m.\u001b[0m\u001b[0mwindow\u001b[0m\u001b[0;34m\u001b[0m\u001b[0m\n\u001b[0m",
      "\u001b[0;32m~/anaconda3/envs/cv3/lib/python3.7/site-packages/pyglet/window/__init__.py\u001b[0m in \u001b[0;36m<module>\u001b[0;34m()\u001b[0m\n\u001b[1;32m   1894\u001b[0m \u001b[0;32mif\u001b[0m \u001b[0;32mnot\u001b[0m \u001b[0m_is_pyglet_docgen\u001b[0m\u001b[0;34m:\u001b[0m\u001b[0;34m\u001b[0m\u001b[0m\n\u001b[1;32m   1895\u001b[0m     \u001b[0mpyglet\u001b[0m\u001b[0;34m.\u001b[0m\u001b[0mwindow\u001b[0m \u001b[0;34m=\u001b[0m \u001b[0msys\u001b[0m\u001b[0;34m.\u001b[0m\u001b[0mmodules\u001b[0m\u001b[0;34m[\u001b[0m\u001b[0m__name__\u001b[0m\u001b[0;34m]\u001b[0m\u001b[0;34m\u001b[0m\u001b[0m\n\u001b[0;32m-> 1896\u001b[0;31m     \u001b[0mgl\u001b[0m\u001b[0;34m.\u001b[0m\u001b[0m_create_shadow_window\u001b[0m\u001b[0;34m(\u001b[0m\u001b[0;34m)\u001b[0m\u001b[0;34m\u001b[0m\u001b[0m\n\u001b[0m\u001b[1;32m   1897\u001b[0m \u001b[0;34m\u001b[0m\u001b[0m\n",
      "\u001b[0;32m~/anaconda3/envs/cv3/lib/python3.7/site-packages/pyglet/gl/__init__.py\u001b[0m in \u001b[0;36m_create_shadow_window\u001b[0;34m()\u001b[0m\n\u001b[1;32m    206\u001b[0m \u001b[0;34m\u001b[0m\u001b[0m\n\u001b[1;32m    207\u001b[0m     \u001b[0;32mfrom\u001b[0m \u001b[0mpyglet\u001b[0m\u001b[0;34m.\u001b[0m\u001b[0mwindow\u001b[0m \u001b[0;32mimport\u001b[0m \u001b[0mWindow\u001b[0m\u001b[0;34m\u001b[0m\u001b[0m\n\u001b[0;32m--> 208\u001b[0;31m     \u001b[0m_shadow_window\u001b[0m \u001b[0;34m=\u001b[0m \u001b[0mWindow\u001b[0m\u001b[0;34m(\u001b[0m\u001b[0mwidth\u001b[0m\u001b[0;34m=\u001b[0m\u001b[0;36m1\u001b[0m\u001b[0;34m,\u001b[0m \u001b[0mheight\u001b[0m\u001b[0;34m=\u001b[0m\u001b[0;36m1\u001b[0m\u001b[0;34m,\u001b[0m \u001b[0mvisible\u001b[0m\u001b[0;34m=\u001b[0m\u001b[0;32mFalse\u001b[0m\u001b[0;34m)\u001b[0m\u001b[0;34m\u001b[0m\u001b[0m\n\u001b[0m\u001b[1;32m    209\u001b[0m     \u001b[0m_shadow_window\u001b[0m\u001b[0;34m.\u001b[0m\u001b[0mswitch_to\u001b[0m\u001b[0;34m(\u001b[0m\u001b[0;34m)\u001b[0m\u001b[0;34m\u001b[0m\u001b[0m\n\u001b[1;32m    210\u001b[0m \u001b[0;34m\u001b[0m\u001b[0m\n",
      "\u001b[0;32m~/anaconda3/envs/cv3/lib/python3.7/site-packages/pyglet/window/xlib/__init__.py\u001b[0m in \u001b[0;36m__init__\u001b[0;34m(self, *args, **kwargs)\u001b[0m\n\u001b[1;32m    164\u001b[0m                     \u001b[0mself\u001b[0m\u001b[0;34m.\u001b[0m\u001b[0m_event_handlers\u001b[0m\u001b[0;34m[\u001b[0m\u001b[0mmessage\u001b[0m\u001b[0;34m]\u001b[0m \u001b[0;34m=\u001b[0m \u001b[0mfunc\u001b[0m\u001b[0;34m\u001b[0m\u001b[0m\n\u001b[1;32m    165\u001b[0m \u001b[0;34m\u001b[0m\u001b[0m\n\u001b[0;32m--> 166\u001b[0;31m         \u001b[0msuper\u001b[0m\u001b[0;34m(\u001b[0m\u001b[0mXlibWindow\u001b[0m\u001b[0;34m,\u001b[0m \u001b[0mself\u001b[0m\u001b[0;34m)\u001b[0m\u001b[0;34m.\u001b[0m\u001b[0m__init__\u001b[0m\u001b[0;34m(\u001b[0m\u001b[0;34m*\u001b[0m\u001b[0margs\u001b[0m\u001b[0;34m,\u001b[0m \u001b[0;34m**\u001b[0m\u001b[0mkwargs\u001b[0m\u001b[0;34m)\u001b[0m\u001b[0;34m\u001b[0m\u001b[0m\n\u001b[0m\u001b[1;32m    167\u001b[0m \u001b[0;34m\u001b[0m\u001b[0m\n\u001b[1;32m    168\u001b[0m         \u001b[0;32mglobal\u001b[0m \u001b[0m_can_detect_autorepeat\u001b[0m\u001b[0;34m\u001b[0m\u001b[0m\n",
      "\u001b[0;32m~/anaconda3/envs/cv3/lib/python3.7/site-packages/pyglet/window/__init__.py\u001b[0m in \u001b[0;36m__init__\u001b[0;34m(self, width, height, caption, resizable, style, fullscreen, visible, vsync, display, screen, config, context, mode)\u001b[0m\n\u001b[1;32m    499\u001b[0m \u001b[0;34m\u001b[0m\u001b[0m\n\u001b[1;32m    500\u001b[0m         \u001b[0;32mif\u001b[0m \u001b[0;32mnot\u001b[0m \u001b[0mdisplay\u001b[0m\u001b[0;34m:\u001b[0m\u001b[0;34m\u001b[0m\u001b[0m\n\u001b[0;32m--> 501\u001b[0;31m             \u001b[0mdisplay\u001b[0m \u001b[0;34m=\u001b[0m \u001b[0mget_platform\u001b[0m\u001b[0;34m(\u001b[0m\u001b[0;34m)\u001b[0m\u001b[0;34m.\u001b[0m\u001b[0mget_default_display\u001b[0m\u001b[0;34m(\u001b[0m\u001b[0;34m)\u001b[0m\u001b[0;34m\u001b[0m\u001b[0m\n\u001b[0m\u001b[1;32m    502\u001b[0m \u001b[0;34m\u001b[0m\u001b[0m\n\u001b[1;32m    503\u001b[0m         \u001b[0;32mif\u001b[0m \u001b[0;32mnot\u001b[0m \u001b[0mscreen\u001b[0m\u001b[0;34m:\u001b[0m\u001b[0;34m\u001b[0m\u001b[0m\n",
      "\u001b[0;32m~/anaconda3/envs/cv3/lib/python3.7/site-packages/pyglet/window/__init__.py\u001b[0m in \u001b[0;36mget_default_display\u001b[0;34m(self)\u001b[0m\n\u001b[1;32m   1843\u001b[0m         \u001b[0;34m:\u001b[0m\u001b[0mrtype\u001b[0m\u001b[0;34m:\u001b[0m\u001b[0;31m \u001b[0m\u001b[0;31m`\u001b[0m\u001b[0mDisplay\u001b[0m\u001b[0;31m`\u001b[0m\u001b[0;34m\u001b[0m\u001b[0m\n\u001b[1;32m   1844\u001b[0m         \"\"\"\n\u001b[0;32m-> 1845\u001b[0;31m         \u001b[0;32mreturn\u001b[0m \u001b[0mpyglet\u001b[0m\u001b[0;34m.\u001b[0m\u001b[0mcanvas\u001b[0m\u001b[0;34m.\u001b[0m\u001b[0mget_display\u001b[0m\u001b[0;34m(\u001b[0m\u001b[0;34m)\u001b[0m\u001b[0;34m\u001b[0m\u001b[0m\n\u001b[0m\u001b[1;32m   1846\u001b[0m \u001b[0;34m\u001b[0m\u001b[0m\n\u001b[1;32m   1847\u001b[0m \u001b[0;32mif\u001b[0m \u001b[0m_is_pyglet_docgen\u001b[0m\u001b[0;34m:\u001b[0m\u001b[0;34m\u001b[0m\u001b[0m\n",
      "\u001b[0;32m~/anaconda3/envs/cv3/lib/python3.7/site-packages/pyglet/canvas/__init__.py\u001b[0m in \u001b[0;36mget_display\u001b[0;34m()\u001b[0m\n\u001b[1;32m     80\u001b[0m \u001b[0;34m\u001b[0m\u001b[0m\n\u001b[1;32m     81\u001b[0m     \u001b[0;31m# Otherwise, create a new display and return it.\u001b[0m\u001b[0;34m\u001b[0m\u001b[0;34m\u001b[0m\u001b[0m\n\u001b[0;32m---> 82\u001b[0;31m     \u001b[0;32mreturn\u001b[0m \u001b[0mDisplay\u001b[0m\u001b[0;34m(\u001b[0m\u001b[0;34m)\u001b[0m\u001b[0;34m\u001b[0m\u001b[0m\n\u001b[0m\u001b[1;32m     83\u001b[0m \u001b[0;34m\u001b[0m\u001b[0m\n\u001b[1;32m     84\u001b[0m \u001b[0;32mif\u001b[0m \u001b[0m_is_pyglet_docgen\u001b[0m\u001b[0;34m:\u001b[0m\u001b[0;34m\u001b[0m\u001b[0m\n",
      "\u001b[0;32m~/anaconda3/envs/cv3/lib/python3.7/site-packages/pyglet/canvas/xlib.py\u001b[0m in \u001b[0;36m__init__\u001b[0;34m(self, name, x_screen)\u001b[0m\n\u001b[1;32m     84\u001b[0m         \u001b[0mself\u001b[0m\u001b[0;34m.\u001b[0m\u001b[0m_display\u001b[0m \u001b[0;34m=\u001b[0m \u001b[0mxlib\u001b[0m\u001b[0;34m.\u001b[0m\u001b[0mXOpenDisplay\u001b[0m\u001b[0;34m(\u001b[0m\u001b[0mname\u001b[0m\u001b[0;34m)\u001b[0m\u001b[0;34m\u001b[0m\u001b[0m\n\u001b[1;32m     85\u001b[0m         \u001b[0;32mif\u001b[0m \u001b[0;32mnot\u001b[0m \u001b[0mself\u001b[0m\u001b[0;34m.\u001b[0m\u001b[0m_display\u001b[0m\u001b[0;34m:\u001b[0m\u001b[0;34m\u001b[0m\u001b[0m\n\u001b[0;32m---> 86\u001b[0;31m             \u001b[0;32mraise\u001b[0m \u001b[0mNoSuchDisplayException\u001b[0m\u001b[0;34m(\u001b[0m\u001b[0;34m'Cannot connect to \"%s\"'\u001b[0m \u001b[0;34m%\u001b[0m \u001b[0mname\u001b[0m\u001b[0;34m)\u001b[0m\u001b[0;34m\u001b[0m\u001b[0m\n\u001b[0m\u001b[1;32m     87\u001b[0m \u001b[0;34m\u001b[0m\u001b[0m\n\u001b[1;32m     88\u001b[0m         \u001b[0mscreen_count\u001b[0m \u001b[0;34m=\u001b[0m \u001b[0mxlib\u001b[0m\u001b[0;34m.\u001b[0m\u001b[0mXScreenCount\u001b[0m\u001b[0;34m(\u001b[0m\u001b[0mself\u001b[0m\u001b[0;34m.\u001b[0m\u001b[0m_display\u001b[0m\u001b[0;34m)\u001b[0m\u001b[0;34m\u001b[0m\u001b[0m\n",
      "\u001b[0;31mNoSuchDisplayException\u001b[0m: Cannot connect to \"None\""
     ]
    }
   ],
   "source": [
    "env.render(mode='rgb_array')"
   ]
  },
  {
   "cell_type": "markdown",
   "metadata": {},
   "source": [
    "### 3. Train the Agent with DDPG\n",
    "\n",
    "Run the code cell below to train the agent from scratch.  Alternatively, you can skip to the next code cell to load the pre-trained weights from file."
   ]
  },
  {
   "cell_type": "code",
<<<<<<< HEAD
   "execution_count": 6,
=======
   "execution_count": 4,
>>>>>>> 2a5c84fed3b031dbc88cb4492f65bdf1e0721f15
   "metadata": {
    "scrolled": false
   },
   "outputs": [
    {
<<<<<<< HEAD
     "name": "stdout",
     "output_type": "stream",
     "text": [
      "Episode 34\tAverage Score: -89.49\tScore: -41.6374"
     ]
    },
    {
     "ename": "KeyboardInterrupt",
     "evalue": "",
     "output_type": "error",
     "traceback": [
      "\u001b[0;31m---------------------------------------------------------------------------\u001b[0m",
      "\u001b[0;31mKeyboardInterrupt\u001b[0m                         Traceback (most recent call last)",
      "\u001b[0;32m<ipython-input-4-36916dff7342>\u001b[0m in \u001b[0;36m<module>\u001b[0;34m()\u001b[0m\n\u001b[1;32m     24\u001b[0m     \u001b[0;32mreturn\u001b[0m \u001b[0mscores\u001b[0m\u001b[0;34m\u001b[0m\u001b[0m\n\u001b[1;32m     25\u001b[0m \u001b[0;34m\u001b[0m\u001b[0m\n\u001b[0;32m---> 26\u001b[0;31m \u001b[0mscores\u001b[0m \u001b[0;34m=\u001b[0m \u001b[0mddpg\u001b[0m\u001b[0;34m(\u001b[0m\u001b[0;34m)\u001b[0m\u001b[0;34m\u001b[0m\u001b[0m\n\u001b[0m\u001b[1;32m     27\u001b[0m \u001b[0;34m\u001b[0m\u001b[0m\n\u001b[1;32m     28\u001b[0m \u001b[0mfig\u001b[0m \u001b[0;34m=\u001b[0m \u001b[0mplt\u001b[0m\u001b[0;34m.\u001b[0m\u001b[0mfigure\u001b[0m\u001b[0;34m(\u001b[0m\u001b[0;34m)\u001b[0m\u001b[0;34m\u001b[0m\u001b[0m\n",
      "\u001b[0;32m<ipython-input-4-36916dff7342>\u001b[0m in \u001b[0;36mddpg\u001b[0;34m(n_episodes, max_t)\u001b[0m\n\u001b[1;32m     10\u001b[0m             \u001b[0maction\u001b[0m \u001b[0;34m=\u001b[0m \u001b[0magent\u001b[0m\u001b[0;34m.\u001b[0m\u001b[0mact\u001b[0m\u001b[0;34m(\u001b[0m\u001b[0mstate\u001b[0m\u001b[0;34m)\u001b[0m\u001b[0;34m\u001b[0m\u001b[0m\n\u001b[1;32m     11\u001b[0m             \u001b[0mnext_state\u001b[0m\u001b[0;34m,\u001b[0m \u001b[0mreward\u001b[0m\u001b[0;34m,\u001b[0m \u001b[0mdone\u001b[0m\u001b[0;34m,\u001b[0m \u001b[0m_\u001b[0m \u001b[0;34m=\u001b[0m \u001b[0menv\u001b[0m\u001b[0;34m.\u001b[0m\u001b[0mstep\u001b[0m\u001b[0;34m(\u001b[0m\u001b[0maction\u001b[0m\u001b[0;34m)\u001b[0m\u001b[0;34m\u001b[0m\u001b[0m\n\u001b[0;32m---> 12\u001b[0;31m             \u001b[0magent\u001b[0m\u001b[0;34m.\u001b[0m\u001b[0mstep\u001b[0m\u001b[0;34m(\u001b[0m\u001b[0mstate\u001b[0m\u001b[0;34m,\u001b[0m \u001b[0maction\u001b[0m\u001b[0;34m,\u001b[0m \u001b[0mreward\u001b[0m\u001b[0;34m,\u001b[0m \u001b[0mnext_state\u001b[0m\u001b[0;34m,\u001b[0m \u001b[0mdone\u001b[0m\u001b[0;34m)\u001b[0m\u001b[0;34m\u001b[0m\u001b[0m\n\u001b[0m\u001b[1;32m     13\u001b[0m             \u001b[0mstate\u001b[0m \u001b[0;34m=\u001b[0m \u001b[0mnext_state\u001b[0m\u001b[0;34m\u001b[0m\u001b[0m\n\u001b[1;32m     14\u001b[0m             \u001b[0mscore\u001b[0m \u001b[0;34m+=\u001b[0m \u001b[0mreward\u001b[0m\u001b[0;34m\u001b[0m\u001b[0m\n",
      "\u001b[0;32m~/learning/sys/rl_bipedal/ddpg_agent.py\u001b[0m in \u001b[0;36mstep\u001b[0;34m(self, state, action, reward, next_state, done)\u001b[0m\n\u001b[1;32m     60\u001b[0m         \u001b[0;32mif\u001b[0m \u001b[0mlen\u001b[0m\u001b[0;34m(\u001b[0m\u001b[0mself\u001b[0m\u001b[0;34m.\u001b[0m\u001b[0mmemory\u001b[0m\u001b[0;34m)\u001b[0m \u001b[0;34m>\u001b[0m \u001b[0mBATCH_SIZE\u001b[0m\u001b[0;34m:\u001b[0m\u001b[0;34m\u001b[0m\u001b[0m\n\u001b[1;32m     61\u001b[0m             \u001b[0mexperiences\u001b[0m \u001b[0;34m=\u001b[0m \u001b[0mself\u001b[0m\u001b[0;34m.\u001b[0m\u001b[0mmemory\u001b[0m\u001b[0;34m.\u001b[0m\u001b[0msample\u001b[0m\u001b[0;34m(\u001b[0m\u001b[0;34m)\u001b[0m\u001b[0;34m\u001b[0m\u001b[0m\n\u001b[0;32m---> 62\u001b[0;31m             \u001b[0mself\u001b[0m\u001b[0;34m.\u001b[0m\u001b[0mlearn\u001b[0m\u001b[0;34m(\u001b[0m\u001b[0mexperiences\u001b[0m\u001b[0;34m,\u001b[0m \u001b[0mGAMMA\u001b[0m\u001b[0;34m)\u001b[0m\u001b[0;34m\u001b[0m\u001b[0m\n\u001b[0m\u001b[1;32m     63\u001b[0m \u001b[0;34m\u001b[0m\u001b[0m\n\u001b[1;32m     64\u001b[0m     \u001b[0;32mdef\u001b[0m \u001b[0mact\u001b[0m\u001b[0;34m(\u001b[0m\u001b[0mself\u001b[0m\u001b[0;34m,\u001b[0m \u001b[0mstate\u001b[0m\u001b[0;34m,\u001b[0m \u001b[0madd_noise\u001b[0m\u001b[0;34m=\u001b[0m\u001b[0;32mTrue\u001b[0m\u001b[0;34m)\u001b[0m\u001b[0;34m:\u001b[0m\u001b[0;34m\u001b[0m\u001b[0m\n",
      "\u001b[0;32m~/learning/sys/rl_bipedal/ddpg_agent.py\u001b[0m in \u001b[0;36mlearn\u001b[0;34m(self, experiences, gamma)\u001b[0m\n\u001b[1;32m    107\u001b[0m         \u001b[0;31m# Compute actor loss\u001b[0m\u001b[0;34m\u001b[0m\u001b[0;34m\u001b[0m\u001b[0m\n\u001b[1;32m    108\u001b[0m         \u001b[0mactions_pred\u001b[0m \u001b[0;34m=\u001b[0m \u001b[0mself\u001b[0m\u001b[0;34m.\u001b[0m\u001b[0mactor_local\u001b[0m\u001b[0;34m(\u001b[0m\u001b[0mstates\u001b[0m\u001b[0;34m)\u001b[0m\u001b[0;34m\u001b[0m\u001b[0m\n\u001b[0;32m--> 109\u001b[0;31m         \u001b[0mactor_loss\u001b[0m \u001b[0;34m=\u001b[0m \u001b[0;34m-\u001b[0m\u001b[0mself\u001b[0m\u001b[0;34m.\u001b[0m\u001b[0mcritic_local\u001b[0m\u001b[0;34m(\u001b[0m\u001b[0mstates\u001b[0m\u001b[0;34m,\u001b[0m \u001b[0mactions_pred\u001b[0m\u001b[0;34m)\u001b[0m\u001b[0;34m.\u001b[0m\u001b[0mmean\u001b[0m\u001b[0;34m(\u001b[0m\u001b[0;34m)\u001b[0m\u001b[0;34m\u001b[0m\u001b[0m\n\u001b[0m\u001b[1;32m    110\u001b[0m         \u001b[0;31m# Minimize the loss\u001b[0m\u001b[0;34m\u001b[0m\u001b[0;34m\u001b[0m\u001b[0m\n\u001b[1;32m    111\u001b[0m         \u001b[0mself\u001b[0m\u001b[0;34m.\u001b[0m\u001b[0mactor_optimizer\u001b[0m\u001b[0;34m.\u001b[0m\u001b[0mzero_grad\u001b[0m\u001b[0;34m(\u001b[0m\u001b[0;34m)\u001b[0m\u001b[0;34m\u001b[0m\u001b[0m\n",
      "\u001b[0;31mKeyboardInterrupt\u001b[0m: "
=======
     "name": "stderr",
     "output_type": "stream",
     "text": [
      "/home/parminder0407/anaconda3/envs/cv3/lib/python3.7/site-packages/torch/nn/functional.py:995: UserWarning: nn.functional.tanh is deprecated. Use torch.tanh instead.\n",
      "  warnings.warn(\"nn.functional.tanh is deprecated. Use torch.tanh instead.\")\n"
     ]
    },
    {
     "name": "stdout",
     "output_type": "stream",
     "text": [
      "Episode 100\tAverage Score: -100.01\tScore: -98.66\n",
      "Episode 200\tAverage Score: -96.43\tScore: -95.880\n",
      "Episode 300\tAverage Score: -99.12\tScore: -98.619\n",
      "Episode 400\tAverage Score: -98.37\tScore: -100.442\n",
      "Episode 500\tAverage Score: -95.73\tScore: -99.203\n",
      "Episode 600\tAverage Score: -94.31\tScore: -96.97\n",
      "Episode 700\tAverage Score: -95.03\tScore: -97.10\n",
      "Episode 800\tAverage Score: -93.89\tScore: -95.398\n",
      "Episode 900\tAverage Score: -97.63\tScore: -100.13\n",
<<<<<<< HEAD
      "Episode 1000\tAverage Score: -93.14\tScore: -100.52\n",
      "Episode 1100\tAverage Score: -91.47\tScore: -111.60\n",
      "Episode 1200\tAverage Score: -91.34\tScore: -100.83\n",
      "Episode 1300\tAverage Score: -99.42\tScore: -98.771\n",
      "Episode 1400\tAverage Score: -99.11\tScore: -99.912\n",
      "Episode 1500\tAverage Score: -98.62\tScore: -96.995\n",
      "Episode 1600\tAverage Score: -97.90\tScore: -98.141\n",
      "Episode 1700\tAverage Score: -101.15\tScore: -106.76\n",
      "Episode 1800\tAverage Score: -107.08\tScore: -106.36\n",
      "Episode 1900\tAverage Score: -102.51\tScore: -98.157\n",
      "Episode 2000\tAverage Score: -98.08\tScore: -100.49\n"
=======
      "Episode 984\tAverage Score: -93.87\tScore: -31.851"
>>>>>>> d4d1eb91bd1ba513d1ca29a78b0df3f84903a00b
>>>>>>> 2a5c84fed3b031dbc88cb4492f65bdf1e0721f15
     ]
    },
    {
     "data": {
      "image/png": "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\n",
      "text/plain": [
       "<Figure size 432x288 with 1 Axes>"
      ]
     },
     "metadata": {
      "needs_background": "light"
     },
     "output_type": "display_data"
    }
   ],
   "source": [
    "def ddpg(n_episodes=2000, max_t=700):\n",
    "    scores_deque = deque(maxlen=100)\n",
    "    scores = []\n",
    "    max_score = -np.Inf\n",
    "    for i_episode in range(1, n_episodes+1):\n",
    "        state = env.reset()\n",
    "        agent.reset()\n",
    "        score = 0\n",
    "        for t in range(max_t):\n",
    "            action = agent.act(state)\n",
    "            next_state, reward, done, _ = env.step(action)\n",
    "            agent.step(state, action, reward, next_state, done)\n",
    "            state = next_state\n",
    "            score += reward\n",
    "            if done:\n",
    "                break \n",
    "        scores_deque.append(score)\n",
    "        scores.append(score)\n",
    "        print('\\rEpisode {}\\tAverage Score: {:.2f}\\tScore: {:.2f}'.format(i_episode, np.mean(scores_deque), score), end=\"\")\n",
    "        if i_episode % 100 == 0:\n",
    "            torch.save(agent.actor_local.state_dict(), 'checkpoint_actor.pth')\n",
    "            torch.save(agent.critic_local.state_dict(), 'checkpoint_critic.pth')\n",
    "            print('\\rEpisode {}\\tAverage Score: {:.2f}'.format(i_episode, np.mean(scores_deque)))   \n",
    "    return scores\n",
    "\n",
    "scores = ddpg()\n",
    "\n",
    "fig = plt.figure()\n",
    "ax = fig.add_subplot(111)\n",
    "plt.plot(np.arange(1, len(scores)+1), scores)\n",
    "plt.ylabel('Score')\n",
    "plt.xlabel('Episode #')\n",
    "plt.show()"
   ]
  },
  {
   "cell_type": "markdown",
   "metadata": {},
   "source": [
    "### 4. Watch a Smart Agent!\n",
    "\n",
    "In the next code cell, you will load the trained weights from file to watch a smart agent!"
   ]
  },
  {
   "cell_type": "code",
   "execution_count": 4,
   "metadata": {},
   "outputs": [
    {
<<<<<<< HEAD
     "name": "stderr",
     "output_type": "stream",
     "text": [
      "/home/parminder0407/anaconda3/envs/cv3/lib/python3.7/site-packages/torch/nn/functional.py:995: UserWarning: nn.functional.tanh is deprecated. Use torch.tanh instead.\n",
      "  warnings.warn(\"nn.functional.tanh is deprecated. Use torch.tanh instead.\")\n"
     ]
    },
    {
     "ename": "NameError",
     "evalue": "name 'base' is not defined",
     "output_type": "error",
     "traceback": [
      "\u001b[0;31m---------------------------------------------------------------------------\u001b[0m",
      "\u001b[0;31mNameError\u001b[0m                                 Traceback (most recent call last)",
      "\u001b[0;32m<ipython-input-4-49156b8949f6>\u001b[0m in \u001b[0;36m<module>\u001b[0;34m()\u001b[0m\n\u001b[1;32m     22\u001b[0m \u001b[0;32mfor\u001b[0m \u001b[0mt\u001b[0m \u001b[0;32min\u001b[0m \u001b[0mrange\u001b[0m\u001b[0;34m(\u001b[0m\u001b[0;36m1000\u001b[0m\u001b[0;34m)\u001b[0m\u001b[0;34m:\u001b[0m\u001b[0;34m\u001b[0m\u001b[0m\n\u001b[1;32m     23\u001b[0m     \u001b[0maction\u001b[0m \u001b[0;34m=\u001b[0m \u001b[0magent\u001b[0m\u001b[0;34m.\u001b[0m\u001b[0mact\u001b[0m\u001b[0;34m(\u001b[0m\u001b[0mstate\u001b[0m\u001b[0;34m)\u001b[0m\u001b[0;34m\u001b[0m\u001b[0m\n\u001b[0;32m---> 24\u001b[0;31m     \u001b[0mframes\u001b[0m\u001b[0;34m.\u001b[0m\u001b[0mappend\u001b[0m\u001b[0;34m(\u001b[0m\u001b[0menv\u001b[0m\u001b[0;34m.\u001b[0m\u001b[0mrender\u001b[0m\u001b[0;34m(\u001b[0m\u001b[0mmode\u001b[0m\u001b[0;34m=\u001b[0m\u001b[0;34m'rgb_array'\u001b[0m\u001b[0;34m)\u001b[0m\u001b[0;34m)\u001b[0m\u001b[0;34m\u001b[0m\u001b[0m\n\u001b[0m\u001b[1;32m     25\u001b[0m     \u001b[0mnext_state\u001b[0m\u001b[0;34m,\u001b[0m \u001b[0mreward\u001b[0m\u001b[0;34m,\u001b[0m \u001b[0mdone\u001b[0m\u001b[0;34m,\u001b[0m \u001b[0m_\u001b[0m \u001b[0;34m=\u001b[0m \u001b[0menv\u001b[0m\u001b[0;34m.\u001b[0m\u001b[0mstep\u001b[0m\u001b[0;34m(\u001b[0m\u001b[0maction\u001b[0m\u001b[0;34m)\u001b[0m\u001b[0;34m\u001b[0m\u001b[0m\n\u001b[1;32m     26\u001b[0m     \u001b[0mstate\u001b[0m\u001b[0;34m=\u001b[0m\u001b[0mnext_state\u001b[0m\u001b[0;34m\u001b[0m\u001b[0m\n",
      "\u001b[0;32m~/anaconda3/envs/cv3/lib/python3.7/site-packages/gym/core.py\u001b[0m in \u001b[0;36mrender\u001b[0;34m(self, mode, **kwargs)\u001b[0m\n\u001b[1;32m    273\u001b[0m \u001b[0;34m\u001b[0m\u001b[0m\n\u001b[1;32m    274\u001b[0m     \u001b[0;32mdef\u001b[0m \u001b[0mrender\u001b[0m\u001b[0;34m(\u001b[0m\u001b[0mself\u001b[0m\u001b[0;34m,\u001b[0m \u001b[0mmode\u001b[0m\u001b[0;34m=\u001b[0m\u001b[0;34m'human'\u001b[0m\u001b[0;34m,\u001b[0m \u001b[0;34m**\u001b[0m\u001b[0mkwargs\u001b[0m\u001b[0;34m)\u001b[0m\u001b[0;34m:\u001b[0m\u001b[0;34m\u001b[0m\u001b[0m\n\u001b[0;32m--> 275\u001b[0;31m         \u001b[0;32mreturn\u001b[0m \u001b[0mself\u001b[0m\u001b[0;34m.\u001b[0m\u001b[0menv\u001b[0m\u001b[0;34m.\u001b[0m\u001b[0mrender\u001b[0m\u001b[0;34m(\u001b[0m\u001b[0mmode\u001b[0m\u001b[0;34m,\u001b[0m \u001b[0;34m**\u001b[0m\u001b[0mkwargs\u001b[0m\u001b[0;34m)\u001b[0m\u001b[0;34m\u001b[0m\u001b[0m\n\u001b[0m\u001b[1;32m    276\u001b[0m \u001b[0;34m\u001b[0m\u001b[0m\n\u001b[1;32m    277\u001b[0m     \u001b[0;32mdef\u001b[0m \u001b[0mclose\u001b[0m\u001b[0;34m(\u001b[0m\u001b[0mself\u001b[0m\u001b[0;34m)\u001b[0m\u001b[0;34m:\u001b[0m\u001b[0;34m\u001b[0m\u001b[0m\n",
      "\u001b[0;32m~/anaconda3/envs/cv3/lib/python3.7/site-packages/gym/envs/box2d/bipedal_walker.py\u001b[0m in \u001b[0;36mrender\u001b[0;34m(self, mode)\u001b[0m\n\u001b[1;32m    446\u001b[0m \u001b[0;34m\u001b[0m\u001b[0m\n\u001b[1;32m    447\u001b[0m     \u001b[0;32mdef\u001b[0m \u001b[0mrender\u001b[0m\u001b[0;34m(\u001b[0m\u001b[0mself\u001b[0m\u001b[0;34m,\u001b[0m \u001b[0mmode\u001b[0m\u001b[0;34m=\u001b[0m\u001b[0;34m'human'\u001b[0m\u001b[0;34m)\u001b[0m\u001b[0;34m:\u001b[0m\u001b[0;34m\u001b[0m\u001b[0m\n\u001b[0;32m--> 448\u001b[0;31m         \u001b[0;32mfrom\u001b[0m \u001b[0mgym\u001b[0m\u001b[0;34m.\u001b[0m\u001b[0menvs\u001b[0m\u001b[0;34m.\u001b[0m\u001b[0mclassic_control\u001b[0m \u001b[0;32mimport\u001b[0m \u001b[0mrendering\u001b[0m\u001b[0;34m\u001b[0m\u001b[0m\n\u001b[0m\u001b[1;32m    449\u001b[0m         \u001b[0;32mif\u001b[0m \u001b[0mself\u001b[0m\u001b[0;34m.\u001b[0m\u001b[0mviewer\u001b[0m \u001b[0;32mis\u001b[0m \u001b[0;32mNone\u001b[0m\u001b[0;34m:\u001b[0m\u001b[0;34m\u001b[0m\u001b[0m\n\u001b[1;32m    450\u001b[0m             \u001b[0mself\u001b[0m\u001b[0;34m.\u001b[0m\u001b[0mviewer\u001b[0m \u001b[0;34m=\u001b[0m \u001b[0mrendering\u001b[0m\u001b[0;34m.\u001b[0m\u001b[0mViewer\u001b[0m\u001b[0;34m(\u001b[0m\u001b[0mVIEWPORT_W\u001b[0m\u001b[0;34m,\u001b[0m \u001b[0mVIEWPORT_H\u001b[0m\u001b[0;34m)\u001b[0m\u001b[0;34m\u001b[0m\u001b[0m\n",
      "\u001b[0;32m~/anaconda3/envs/cv3/lib/python3.7/site-packages/gym/envs/classic_control/rendering.py\u001b[0m in \u001b[0;36m<module>\u001b[0;34m()\u001b[0m\n\u001b[1;32m     21\u001b[0m \u001b[0;34m\u001b[0m\u001b[0m\n\u001b[1;32m     22\u001b[0m \u001b[0;32mtry\u001b[0m\u001b[0;34m:\u001b[0m\u001b[0;34m\u001b[0m\u001b[0m\n\u001b[0;32m---> 23\u001b[0;31m     \u001b[0;32mfrom\u001b[0m \u001b[0mpyglet\u001b[0m\u001b[0;34m.\u001b[0m\u001b[0mgl\u001b[0m \u001b[0;32mimport\u001b[0m \u001b[0;34m*\u001b[0m\u001b[0;34m\u001b[0m\u001b[0m\n\u001b[0m\u001b[1;32m     24\u001b[0m \u001b[0;32mexcept\u001b[0m \u001b[0mImportError\u001b[0m \u001b[0;32mas\u001b[0m \u001b[0me\u001b[0m\u001b[0;34m:\u001b[0m\u001b[0;34m\u001b[0m\u001b[0m\n\u001b[1;32m     25\u001b[0m     \u001b[0mreraise\u001b[0m\u001b[0;34m(\u001b[0m\u001b[0mprefix\u001b[0m\u001b[0;34m=\u001b[0m\u001b[0;34m\"Error occured while running `from pyglet.gl import *`\"\u001b[0m\u001b[0;34m,\u001b[0m\u001b[0msuffix\u001b[0m\u001b[0;34m=\u001b[0m\u001b[0;34m\"HINT: make sure you have OpenGL install. On Ubuntu, you can run 'apt-get install python-opengl'. If you're running on a server, you may need a virtual frame buffer; something like this should work: 'xvfb-run -s \\\"-screen 0 1400x900x24\\\" python <your_script.py>'\"\u001b[0m\u001b[0;34m)\u001b[0m\u001b[0;34m\u001b[0m\u001b[0m\n",
      "\u001b[0;32m~/anaconda3/envs/cv3/lib/python3.7/site-packages/pyglet/gl/__init__.py\u001b[0m in \u001b[0;36m<module>\u001b[0;34m()\u001b[0m\n\u001b[1;32m    225\u001b[0m     \u001b[0;32melse\u001b[0m\u001b[0;34m:\u001b[0m\u001b[0;34m\u001b[0m\u001b[0m\n\u001b[1;32m    226\u001b[0m         \u001b[0;32mfrom\u001b[0m \u001b[0;34m.\u001b[0m\u001b[0mcarbon\u001b[0m \u001b[0;32mimport\u001b[0m \u001b[0mCarbonConfig\u001b[0m \u001b[0;32mas\u001b[0m \u001b[0mConfig\u001b[0m\u001b[0;34m\u001b[0m\u001b[0m\n\u001b[0;32m--> 227\u001b[0;31m \u001b[0;32mdel\u001b[0m \u001b[0mbase\u001b[0m\u001b[0;34m\u001b[0m\u001b[0m\n\u001b[0m\u001b[1;32m    228\u001b[0m \u001b[0;34m\u001b[0m\u001b[0m\n\u001b[1;32m    229\u001b[0m \u001b[0;31m# XXX remove\u001b[0m\u001b[0;34m\u001b[0m\u001b[0;34m\u001b[0m\u001b[0m\n",
      "\u001b[0;31mNameError\u001b[0m: name 'base' is not defined"
=======
<<<<<<< HEAD
     "ename": "AttributeError",
     "evalue": "module 'torch._C' has no attribute '_cuda_getDevice'",
     "output_type": "error",
     "traceback": [
      "\u001b[0;31m---------------------------------------------------------------------------\u001b[0m",
      "\u001b[0;31mAttributeError\u001b[0m                            Traceback (most recent call last)",
      "\u001b[0;32m<ipython-input-3-3364b74a92c2>\u001b[0m in \u001b[0;36m<module>\u001b[0;34m()\u001b[0m\n\u001b[0;32m----> 1\u001b[0;31m \u001b[0magent\u001b[0m\u001b[0;34m.\u001b[0m\u001b[0mactor_local\u001b[0m\u001b[0;34m.\u001b[0m\u001b[0mload_state_dict\u001b[0m\u001b[0;34m(\u001b[0m\u001b[0mtorch\u001b[0m\u001b[0;34m.\u001b[0m\u001b[0mload\u001b[0m\u001b[0;34m(\u001b[0m\u001b[0;34m'checkpoint_actor.pth'\u001b[0m\u001b[0;34m)\u001b[0m\u001b[0;34m)\u001b[0m\u001b[0;34m\u001b[0m\u001b[0m\n\u001b[0m\u001b[1;32m      2\u001b[0m \u001b[0magent\u001b[0m\u001b[0;34m.\u001b[0m\u001b[0mcritic_local\u001b[0m\u001b[0;34m.\u001b[0m\u001b[0mload_state_dict\u001b[0m\u001b[0;34m(\u001b[0m\u001b[0mtorch\u001b[0m\u001b[0;34m.\u001b[0m\u001b[0mload\u001b[0m\u001b[0;34m(\u001b[0m\u001b[0;34m'checkpoint_critic.pth'\u001b[0m\u001b[0;34m)\u001b[0m\u001b[0;34m)\u001b[0m\u001b[0;34m\u001b[0m\u001b[0m\n\u001b[1;32m      3\u001b[0m \u001b[0;34m\u001b[0m\u001b[0m\n\u001b[1;32m      4\u001b[0m \u001b[0mstate\u001b[0m \u001b[0;34m=\u001b[0m \u001b[0menv\u001b[0m\u001b[0;34m.\u001b[0m\u001b[0mreset\u001b[0m\u001b[0;34m(\u001b[0m\u001b[0;34m)\u001b[0m\u001b[0;34m\u001b[0m\u001b[0m\n\u001b[1;32m      5\u001b[0m \u001b[0magent\u001b[0m\u001b[0;34m.\u001b[0m\u001b[0mreset\u001b[0m\u001b[0;34m(\u001b[0m\u001b[0;34m)\u001b[0m\u001b[0;34m\u001b[0m\u001b[0m\n",
      "\u001b[0;32m~/anaconda3/envs/cv3/lib/python3.6/site-packages/torch/serialization.py\u001b[0m in \u001b[0;36mload\u001b[0;34m(f, map_location, pickle_module)\u001b[0m\n\u001b[1;32m    301\u001b[0m         \u001b[0mf\u001b[0m \u001b[0;34m=\u001b[0m \u001b[0mopen\u001b[0m\u001b[0;34m(\u001b[0m\u001b[0mf\u001b[0m\u001b[0;34m,\u001b[0m \u001b[0;34m'rb'\u001b[0m\u001b[0;34m)\u001b[0m\u001b[0;34m\u001b[0m\u001b[0m\n\u001b[1;32m    302\u001b[0m     \u001b[0;32mtry\u001b[0m\u001b[0;34m:\u001b[0m\u001b[0;34m\u001b[0m\u001b[0m\n\u001b[0;32m--> 303\u001b[0;31m         \u001b[0;32mreturn\u001b[0m \u001b[0m_load\u001b[0m\u001b[0;34m(\u001b[0m\u001b[0mf\u001b[0m\u001b[0;34m,\u001b[0m \u001b[0mmap_location\u001b[0m\u001b[0;34m,\u001b[0m \u001b[0mpickle_module\u001b[0m\u001b[0;34m)\u001b[0m\u001b[0;34m\u001b[0m\u001b[0m\n\u001b[0m\u001b[1;32m    304\u001b[0m     \u001b[0;32mfinally\u001b[0m\u001b[0;34m:\u001b[0m\u001b[0;34m\u001b[0m\u001b[0m\n\u001b[1;32m    305\u001b[0m         \u001b[0;32mif\u001b[0m \u001b[0mnew_fd\u001b[0m\u001b[0;34m:\u001b[0m\u001b[0;34m\u001b[0m\u001b[0m\n",
      "\u001b[0;32m~/anaconda3/envs/cv3/lib/python3.6/site-packages/torch/serialization.py\u001b[0m in \u001b[0;36m_load\u001b[0;34m(f, map_location, pickle_module)\u001b[0m\n\u001b[1;32m    467\u001b[0m     \u001b[0munpickler\u001b[0m \u001b[0;34m=\u001b[0m \u001b[0mpickle_module\u001b[0m\u001b[0;34m.\u001b[0m\u001b[0mUnpickler\u001b[0m\u001b[0;34m(\u001b[0m\u001b[0mf\u001b[0m\u001b[0;34m)\u001b[0m\u001b[0;34m\u001b[0m\u001b[0m\n\u001b[1;32m    468\u001b[0m     \u001b[0munpickler\u001b[0m\u001b[0;34m.\u001b[0m\u001b[0mpersistent_load\u001b[0m \u001b[0;34m=\u001b[0m \u001b[0mpersistent_load\u001b[0m\u001b[0;34m\u001b[0m\u001b[0m\n\u001b[0;32m--> 469\u001b[0;31m     \u001b[0mresult\u001b[0m \u001b[0;34m=\u001b[0m \u001b[0munpickler\u001b[0m\u001b[0;34m.\u001b[0m\u001b[0mload\u001b[0m\u001b[0;34m(\u001b[0m\u001b[0;34m)\u001b[0m\u001b[0;34m\u001b[0m\u001b[0m\n\u001b[0m\u001b[1;32m    470\u001b[0m \u001b[0;34m\u001b[0m\u001b[0m\n\u001b[1;32m    471\u001b[0m     \u001b[0mdeserialized_storage_keys\u001b[0m \u001b[0;34m=\u001b[0m \u001b[0mpickle_module\u001b[0m\u001b[0;34m.\u001b[0m\u001b[0mload\u001b[0m\u001b[0;34m(\u001b[0m\u001b[0mf\u001b[0m\u001b[0;34m)\u001b[0m\u001b[0;34m\u001b[0m\u001b[0m\n",
      "\u001b[0;32m~/anaconda3/envs/cv3/lib/python3.6/site-packages/torch/serialization.py\u001b[0m in \u001b[0;36mpersistent_load\u001b[0;34m(saved_id)\u001b[0m\n\u001b[1;32m    435\u001b[0m             \u001b[0;32mif\u001b[0m \u001b[0mroot_key\u001b[0m \u001b[0;32mnot\u001b[0m \u001b[0;32min\u001b[0m \u001b[0mdeserialized_objects\u001b[0m\u001b[0;34m:\u001b[0m\u001b[0;34m\u001b[0m\u001b[0m\n\u001b[1;32m    436\u001b[0m                 deserialized_objects[root_key] = restore_location(\n\u001b[0;32m--> 437\u001b[0;31m                     data_type(size), location)\n\u001b[0m\u001b[1;32m    438\u001b[0m             \u001b[0mstorage\u001b[0m \u001b[0;34m=\u001b[0m \u001b[0mdeserialized_objects\u001b[0m\u001b[0;34m[\u001b[0m\u001b[0mroot_key\u001b[0m\u001b[0;34m]\u001b[0m\u001b[0;34m\u001b[0m\u001b[0m\n\u001b[1;32m    439\u001b[0m             \u001b[0;32mif\u001b[0m \u001b[0mview_metadata\u001b[0m \u001b[0;32mis\u001b[0m \u001b[0;32mnot\u001b[0m \u001b[0;32mNone\u001b[0m\u001b[0;34m:\u001b[0m\u001b[0;34m\u001b[0m\u001b[0m\n",
      "\u001b[0;32m~/anaconda3/envs/cv3/lib/python3.6/site-packages/torch/serialization.py\u001b[0m in \u001b[0;36mdefault_restore_location\u001b[0;34m(storage, location)\u001b[0m\n\u001b[1;32m     86\u001b[0m \u001b[0;32mdef\u001b[0m \u001b[0mdefault_restore_location\u001b[0m\u001b[0;34m(\u001b[0m\u001b[0mstorage\u001b[0m\u001b[0;34m,\u001b[0m \u001b[0mlocation\u001b[0m\u001b[0;34m)\u001b[0m\u001b[0;34m:\u001b[0m\u001b[0;34m\u001b[0m\u001b[0m\n\u001b[1;32m     87\u001b[0m     \u001b[0;32mfor\u001b[0m \u001b[0m_\u001b[0m\u001b[0;34m,\u001b[0m \u001b[0m_\u001b[0m\u001b[0;34m,\u001b[0m \u001b[0mfn\u001b[0m \u001b[0;32min\u001b[0m \u001b[0m_package_registry\u001b[0m\u001b[0;34m:\u001b[0m\u001b[0;34m\u001b[0m\u001b[0m\n\u001b[0;32m---> 88\u001b[0;31m         \u001b[0mresult\u001b[0m \u001b[0;34m=\u001b[0m \u001b[0mfn\u001b[0m\u001b[0;34m(\u001b[0m\u001b[0mstorage\u001b[0m\u001b[0;34m,\u001b[0m \u001b[0mlocation\u001b[0m\u001b[0;34m)\u001b[0m\u001b[0;34m\u001b[0m\u001b[0m\n\u001b[0m\u001b[1;32m     89\u001b[0m         \u001b[0;32mif\u001b[0m \u001b[0mresult\u001b[0m \u001b[0;32mis\u001b[0m \u001b[0;32mnot\u001b[0m \u001b[0;32mNone\u001b[0m\u001b[0;34m:\u001b[0m\u001b[0;34m\u001b[0m\u001b[0m\n\u001b[1;32m     90\u001b[0m             \u001b[0;32mreturn\u001b[0m \u001b[0mresult\u001b[0m\u001b[0;34m\u001b[0m\u001b[0m\n",
      "\u001b[0;32m~/anaconda3/envs/cv3/lib/python3.6/site-packages/torch/serialization.py\u001b[0m in \u001b[0;36m_cuda_deserialize\u001b[0;34m(obj, location)\u001b[0m\n\u001b[1;32m     68\u001b[0m     \u001b[0;32mif\u001b[0m \u001b[0mlocation\u001b[0m\u001b[0;34m.\u001b[0m\u001b[0mstartswith\u001b[0m\u001b[0;34m(\u001b[0m\u001b[0;34m'cuda'\u001b[0m\u001b[0;34m)\u001b[0m\u001b[0;34m:\u001b[0m\u001b[0;34m\u001b[0m\u001b[0m\n\u001b[1;32m     69\u001b[0m         \u001b[0mdevice\u001b[0m \u001b[0;34m=\u001b[0m \u001b[0mmax\u001b[0m\u001b[0;34m(\u001b[0m\u001b[0mint\u001b[0m\u001b[0;34m(\u001b[0m\u001b[0mlocation\u001b[0m\u001b[0;34m[\u001b[0m\u001b[0;36m5\u001b[0m\u001b[0;34m:\u001b[0m\u001b[0;34m]\u001b[0m\u001b[0;34m)\u001b[0m\u001b[0;34m,\u001b[0m \u001b[0;36m0\u001b[0m\u001b[0;34m)\u001b[0m\u001b[0;34m\u001b[0m\u001b[0m\n\u001b[0;32m---> 70\u001b[0;31m         \u001b[0;32mreturn\u001b[0m \u001b[0mobj\u001b[0m\u001b[0;34m.\u001b[0m\u001b[0mcuda\u001b[0m\u001b[0;34m(\u001b[0m\u001b[0mdevice\u001b[0m\u001b[0;34m)\u001b[0m\u001b[0;34m\u001b[0m\u001b[0m\n\u001b[0m\u001b[1;32m     71\u001b[0m \u001b[0;34m\u001b[0m\u001b[0m\n\u001b[1;32m     72\u001b[0m \u001b[0;34m\u001b[0m\u001b[0m\n",
      "\u001b[0;32m~/anaconda3/envs/cv3/lib/python3.6/site-packages/torch/_utils.py\u001b[0m in \u001b[0;36m_cuda\u001b[0;34m(self, device, non_blocking, **kwargs)\u001b[0m\n\u001b[1;32m     66\u001b[0m         \u001b[0;32mif\u001b[0m \u001b[0mdevice\u001b[0m \u001b[0;32mis\u001b[0m \u001b[0;32mNone\u001b[0m\u001b[0;34m:\u001b[0m\u001b[0;34m\u001b[0m\u001b[0m\n\u001b[1;32m     67\u001b[0m             \u001b[0mdevice\u001b[0m \u001b[0;34m=\u001b[0m \u001b[0;34m-\u001b[0m\u001b[0;36m1\u001b[0m\u001b[0;34m\u001b[0m\u001b[0m\n\u001b[0;32m---> 68\u001b[0;31m     \u001b[0;32mwith\u001b[0m \u001b[0mtorch\u001b[0m\u001b[0;34m.\u001b[0m\u001b[0mcuda\u001b[0m\u001b[0;34m.\u001b[0m\u001b[0mdevice\u001b[0m\u001b[0;34m(\u001b[0m\u001b[0mdevice\u001b[0m\u001b[0;34m)\u001b[0m\u001b[0;34m:\u001b[0m\u001b[0;34m\u001b[0m\u001b[0m\n\u001b[0m\u001b[1;32m     69\u001b[0m         \u001b[0;32mif\u001b[0m \u001b[0mself\u001b[0m\u001b[0;34m.\u001b[0m\u001b[0mis_sparse\u001b[0m\u001b[0;34m:\u001b[0m\u001b[0;34m\u001b[0m\u001b[0m\n\u001b[1;32m     70\u001b[0m             \u001b[0mnew_type\u001b[0m \u001b[0;34m=\u001b[0m \u001b[0mgetattr\u001b[0m\u001b[0;34m(\u001b[0m\u001b[0mtorch\u001b[0m\u001b[0;34m.\u001b[0m\u001b[0mcuda\u001b[0m\u001b[0;34m.\u001b[0m\u001b[0msparse\u001b[0m\u001b[0;34m,\u001b[0m \u001b[0mself\u001b[0m\u001b[0;34m.\u001b[0m\u001b[0m__class__\u001b[0m\u001b[0;34m.\u001b[0m\u001b[0m__name__\u001b[0m\u001b[0;34m)\u001b[0m\u001b[0;34m\u001b[0m\u001b[0m\n",
      "\u001b[0;32m~/anaconda3/envs/cv3/lib/python3.6/site-packages/torch/cuda/__init__.py\u001b[0m in \u001b[0;36m__enter__\u001b[0;34m(self)\u001b[0m\n\u001b[1;32m    223\u001b[0m         \u001b[0;32mif\u001b[0m \u001b[0mself\u001b[0m\u001b[0;34m.\u001b[0m\u001b[0midx\u001b[0m \u001b[0;32mis\u001b[0m \u001b[0;34m-\u001b[0m\u001b[0;36m1\u001b[0m\u001b[0;34m:\u001b[0m\u001b[0;34m\u001b[0m\u001b[0m\n\u001b[1;32m    224\u001b[0m             \u001b[0;32mreturn\u001b[0m\u001b[0;34m\u001b[0m\u001b[0m\n\u001b[0;32m--> 225\u001b[0;31m         \u001b[0mself\u001b[0m\u001b[0;34m.\u001b[0m\u001b[0mprev_idx\u001b[0m \u001b[0;34m=\u001b[0m \u001b[0mtorch\u001b[0m\u001b[0;34m.\u001b[0m\u001b[0m_C\u001b[0m\u001b[0;34m.\u001b[0m\u001b[0m_cuda_getDevice\u001b[0m\u001b[0;34m(\u001b[0m\u001b[0;34m)\u001b[0m\u001b[0;34m\u001b[0m\u001b[0m\n\u001b[0m\u001b[1;32m    226\u001b[0m         \u001b[0;32mif\u001b[0m \u001b[0mself\u001b[0m\u001b[0;34m.\u001b[0m\u001b[0mprev_idx\u001b[0m \u001b[0;34m!=\u001b[0m \u001b[0mself\u001b[0m\u001b[0;34m.\u001b[0m\u001b[0midx\u001b[0m\u001b[0;34m:\u001b[0m\u001b[0;34m\u001b[0m\u001b[0m\n\u001b[1;32m    227\u001b[0m             \u001b[0mtorch\u001b[0m\u001b[0;34m.\u001b[0m\u001b[0m_C\u001b[0m\u001b[0;34m.\u001b[0m\u001b[0m_cuda_setDevice\u001b[0m\u001b[0;34m(\u001b[0m\u001b[0mself\u001b[0m\u001b[0;34m.\u001b[0m\u001b[0midx\u001b[0m\u001b[0;34m)\u001b[0m\u001b[0;34m\u001b[0m\u001b[0m\n",
      "\u001b[0;31mAttributeError\u001b[0m: module 'torch._C' has no attribute '_cuda_getDevice'"
=======
     "ename": "NoSuchDisplayException",
     "evalue": "Cannot connect to \"None\"",
     "output_type": "error",
     "traceback": [
      "\u001b[0;31m---------------------------------------------------------------------------\u001b[0m",
      "\u001b[0;31mNoSuchDisplayException\u001b[0m                    Traceback (most recent call last)",
      "\u001b[0;32m<ipython-input-3-3364b74a92c2>\u001b[0m in \u001b[0;36m<module>\u001b[0;34m()\u001b[0m\n\u001b[1;32m      6\u001b[0m \u001b[0;32mwhile\u001b[0m \u001b[0;32mTrue\u001b[0m\u001b[0;34m:\u001b[0m\u001b[0;34m\u001b[0m\u001b[0m\n\u001b[1;32m      7\u001b[0m     \u001b[0maction\u001b[0m \u001b[0;34m=\u001b[0m \u001b[0magent\u001b[0m\u001b[0;34m.\u001b[0m\u001b[0mact\u001b[0m\u001b[0;34m(\u001b[0m\u001b[0mstate\u001b[0m\u001b[0;34m)\u001b[0m\u001b[0;34m\u001b[0m\u001b[0m\n\u001b[0;32m----> 8\u001b[0;31m     \u001b[0menv\u001b[0m\u001b[0;34m.\u001b[0m\u001b[0mrender\u001b[0m\u001b[0;34m(\u001b[0m\u001b[0;34m)\u001b[0m\u001b[0;34m\u001b[0m\u001b[0m\n\u001b[0m\u001b[1;32m      9\u001b[0m     \u001b[0mnext_state\u001b[0m\u001b[0;34m,\u001b[0m \u001b[0mreward\u001b[0m\u001b[0;34m,\u001b[0m \u001b[0mdone\u001b[0m\u001b[0;34m,\u001b[0m \u001b[0m_\u001b[0m \u001b[0;34m=\u001b[0m \u001b[0menv\u001b[0m\u001b[0;34m.\u001b[0m\u001b[0mstep\u001b[0m\u001b[0;34m(\u001b[0m\u001b[0maction\u001b[0m\u001b[0;34m)\u001b[0m\u001b[0;34m\u001b[0m\u001b[0m\n\u001b[1;32m     10\u001b[0m     \u001b[0mstate\u001b[0m \u001b[0;34m=\u001b[0m \u001b[0mnext_state\u001b[0m\u001b[0;34m\u001b[0m\u001b[0m\n",
      "\u001b[0;32m/opt/conda/lib/python3.6/site-packages/gym/core.py\u001b[0m in \u001b[0;36mrender\u001b[0;34m(self, mode)\u001b[0m\n\u001b[1;32m    241\u001b[0m \u001b[0;34m\u001b[0m\u001b[0m\n\u001b[1;32m    242\u001b[0m     \u001b[0;32mdef\u001b[0m \u001b[0mrender\u001b[0m\u001b[0;34m(\u001b[0m\u001b[0mself\u001b[0m\u001b[0;34m,\u001b[0m \u001b[0mmode\u001b[0m\u001b[0;34m=\u001b[0m\u001b[0;34m'human'\u001b[0m\u001b[0;34m)\u001b[0m\u001b[0;34m:\u001b[0m\u001b[0;34m\u001b[0m\u001b[0m\n\u001b[0;32m--> 243\u001b[0;31m         \u001b[0;32mreturn\u001b[0m \u001b[0mself\u001b[0m\u001b[0;34m.\u001b[0m\u001b[0menv\u001b[0m\u001b[0;34m.\u001b[0m\u001b[0mrender\u001b[0m\u001b[0;34m(\u001b[0m\u001b[0mmode\u001b[0m\u001b[0;34m)\u001b[0m\u001b[0;34m\u001b[0m\u001b[0m\n\u001b[0m\u001b[1;32m    244\u001b[0m \u001b[0;34m\u001b[0m\u001b[0m\n\u001b[1;32m    245\u001b[0m     \u001b[0;32mdef\u001b[0m \u001b[0mclose\u001b[0m\u001b[0;34m(\u001b[0m\u001b[0mself\u001b[0m\u001b[0;34m)\u001b[0m\u001b[0;34m:\u001b[0m\u001b[0;34m\u001b[0m\u001b[0m\n",
      "\u001b[0;32m/opt/conda/lib/python3.6/site-packages/gym/envs/box2d/bipedal_walker.py\u001b[0m in \u001b[0;36mrender\u001b[0;34m(self, mode)\u001b[0m\n\u001b[1;32m    432\u001b[0m \u001b[0;34m\u001b[0m\u001b[0m\n\u001b[1;32m    433\u001b[0m     \u001b[0;32mdef\u001b[0m \u001b[0mrender\u001b[0m\u001b[0;34m(\u001b[0m\u001b[0mself\u001b[0m\u001b[0;34m,\u001b[0m \u001b[0mmode\u001b[0m\u001b[0;34m=\u001b[0m\u001b[0;34m'human'\u001b[0m\u001b[0;34m)\u001b[0m\u001b[0;34m:\u001b[0m\u001b[0;34m\u001b[0m\u001b[0m\n\u001b[0;32m--> 434\u001b[0;31m         \u001b[0;32mfrom\u001b[0m \u001b[0mgym\u001b[0m\u001b[0;34m.\u001b[0m\u001b[0menvs\u001b[0m\u001b[0;34m.\u001b[0m\u001b[0mclassic_control\u001b[0m \u001b[0;32mimport\u001b[0m \u001b[0mrendering\u001b[0m\u001b[0;34m\u001b[0m\u001b[0m\n\u001b[0m\u001b[1;32m    435\u001b[0m         \u001b[0;32mif\u001b[0m \u001b[0mself\u001b[0m\u001b[0;34m.\u001b[0m\u001b[0mviewer\u001b[0m \u001b[0;32mis\u001b[0m \u001b[0;32mNone\u001b[0m\u001b[0;34m:\u001b[0m\u001b[0;34m\u001b[0m\u001b[0m\n\u001b[1;32m    436\u001b[0m             \u001b[0mself\u001b[0m\u001b[0;34m.\u001b[0m\u001b[0mviewer\u001b[0m \u001b[0;34m=\u001b[0m \u001b[0mrendering\u001b[0m\u001b[0;34m.\u001b[0m\u001b[0mViewer\u001b[0m\u001b[0;34m(\u001b[0m\u001b[0mVIEWPORT_W\u001b[0m\u001b[0;34m,\u001b[0m \u001b[0mVIEWPORT_H\u001b[0m\u001b[0;34m)\u001b[0m\u001b[0;34m\u001b[0m\u001b[0m\n",
      "\u001b[0;32m/opt/conda/lib/python3.6/site-packages/gym/envs/classic_control/rendering.py\u001b[0m in \u001b[0;36m<module>\u001b[0;34m()\u001b[0m\n\u001b[1;32m     21\u001b[0m \u001b[0;34m\u001b[0m\u001b[0m\n\u001b[1;32m     22\u001b[0m \u001b[0;32mtry\u001b[0m\u001b[0;34m:\u001b[0m\u001b[0;34m\u001b[0m\u001b[0m\n\u001b[0;32m---> 23\u001b[0;31m     \u001b[0;32mfrom\u001b[0m \u001b[0mpyglet\u001b[0m\u001b[0;34m.\u001b[0m\u001b[0mgl\u001b[0m \u001b[0;32mimport\u001b[0m \u001b[0;34m*\u001b[0m\u001b[0;34m\u001b[0m\u001b[0m\n\u001b[0m\u001b[1;32m     24\u001b[0m \u001b[0;32mexcept\u001b[0m \u001b[0mImportError\u001b[0m \u001b[0;32mas\u001b[0m \u001b[0me\u001b[0m\u001b[0;34m:\u001b[0m\u001b[0;34m\u001b[0m\u001b[0m\n\u001b[1;32m     25\u001b[0m     \u001b[0mreraise\u001b[0m\u001b[0;34m(\u001b[0m\u001b[0mprefix\u001b[0m\u001b[0;34m=\u001b[0m\u001b[0;34m\"Error occured while running `from pyglet.gl import *`\"\u001b[0m\u001b[0;34m,\u001b[0m\u001b[0msuffix\u001b[0m\u001b[0;34m=\u001b[0m\u001b[0;34m\"HINT: make sure you have OpenGL install. On Ubuntu, you can run 'apt-get install python-opengl'. If you're running on a server, you may need a virtual frame buffer; something like this should work: 'xvfb-run -s \\\"-screen 0 1400x900x24\\\" python <your_script.py>'\"\u001b[0m\u001b[0;34m)\u001b[0m\u001b[0;34m\u001b[0m\u001b[0m\n",
      "\u001b[0;32m/opt/conda/lib/python3.6/site-packages/pyglet/gl/__init__.py\u001b[0m in \u001b[0;36m<module>\u001b[0;34m()\u001b[0m\n\u001b[1;32m    237\u001b[0m     \u001b[0;31m# trickery is for circular import\u001b[0m\u001b[0;34m\u001b[0m\u001b[0;34m\u001b[0m\u001b[0m\n\u001b[1;32m    238\u001b[0m     \u001b[0m_pyglet\u001b[0m\u001b[0;34m.\u001b[0m\u001b[0mgl\u001b[0m \u001b[0;34m=\u001b[0m \u001b[0m_sys\u001b[0m\u001b[0;34m.\u001b[0m\u001b[0mmodules\u001b[0m\u001b[0;34m[\u001b[0m\u001b[0m__name__\u001b[0m\u001b[0;34m]\u001b[0m\u001b[0;34m\u001b[0m\u001b[0m\n\u001b[0;32m--> 239\u001b[0;31m     \u001b[0;32mimport\u001b[0m \u001b[0mpyglet\u001b[0m\u001b[0;34m.\u001b[0m\u001b[0mwindow\u001b[0m\u001b[0;34m\u001b[0m\u001b[0m\n\u001b[0m",
      "\u001b[0;32m/opt/conda/lib/python3.6/site-packages/pyglet/window/__init__.py\u001b[0m in \u001b[0;36m<module>\u001b[0;34m()\u001b[0m\n\u001b[1;32m   1882\u001b[0m \u001b[0;32mif\u001b[0m \u001b[0;32mnot\u001b[0m \u001b[0m_is_epydoc\u001b[0m\u001b[0;34m:\u001b[0m\u001b[0;34m\u001b[0m\u001b[0m\n\u001b[1;32m   1883\u001b[0m     \u001b[0mpyglet\u001b[0m\u001b[0;34m.\u001b[0m\u001b[0mwindow\u001b[0m \u001b[0;34m=\u001b[0m \u001b[0msys\u001b[0m\u001b[0;34m.\u001b[0m\u001b[0mmodules\u001b[0m\u001b[0;34m[\u001b[0m\u001b[0m__name__\u001b[0m\u001b[0;34m]\u001b[0m\u001b[0;34m\u001b[0m\u001b[0m\n\u001b[0;32m-> 1884\u001b[0;31m     \u001b[0mgl\u001b[0m\u001b[0;34m.\u001b[0m\u001b[0m_create_shadow_window\u001b[0m\u001b[0;34m(\u001b[0m\u001b[0;34m)\u001b[0m\u001b[0;34m\u001b[0m\u001b[0m\n\u001b[0m\u001b[1;32m   1885\u001b[0m \u001b[0;34m\u001b[0m\u001b[0m\n",
      "\u001b[0;32m/opt/conda/lib/python3.6/site-packages/pyglet/gl/__init__.py\u001b[0m in \u001b[0;36m_create_shadow_window\u001b[0;34m()\u001b[0m\n\u001b[1;32m    206\u001b[0m \u001b[0;34m\u001b[0m\u001b[0m\n\u001b[1;32m    207\u001b[0m     \u001b[0;32mfrom\u001b[0m \u001b[0mpyglet\u001b[0m\u001b[0;34m.\u001b[0m\u001b[0mwindow\u001b[0m \u001b[0;32mimport\u001b[0m \u001b[0mWindow\u001b[0m\u001b[0;34m\u001b[0m\u001b[0m\n\u001b[0;32m--> 208\u001b[0;31m     \u001b[0m_shadow_window\u001b[0m \u001b[0;34m=\u001b[0m \u001b[0mWindow\u001b[0m\u001b[0;34m(\u001b[0m\u001b[0mwidth\u001b[0m\u001b[0;34m=\u001b[0m\u001b[0;36m1\u001b[0m\u001b[0;34m,\u001b[0m \u001b[0mheight\u001b[0m\u001b[0;34m=\u001b[0m\u001b[0;36m1\u001b[0m\u001b[0;34m,\u001b[0m \u001b[0mvisible\u001b[0m\u001b[0;34m=\u001b[0m\u001b[0;32mFalse\u001b[0m\u001b[0;34m)\u001b[0m\u001b[0;34m\u001b[0m\u001b[0m\n\u001b[0m\u001b[1;32m    209\u001b[0m     \u001b[0m_shadow_window\u001b[0m\u001b[0;34m.\u001b[0m\u001b[0mswitch_to\u001b[0m\u001b[0;34m(\u001b[0m\u001b[0;34m)\u001b[0m\u001b[0;34m\u001b[0m\u001b[0m\n\u001b[1;32m    210\u001b[0m \u001b[0;34m\u001b[0m\u001b[0m\n",
      "\u001b[0;32m/opt/conda/lib/python3.6/site-packages/pyglet/window/xlib/__init__.py\u001b[0m in \u001b[0;36m__init__\u001b[0;34m(self, *args, **kwargs)\u001b[0m\n\u001b[1;32m    164\u001b[0m                     \u001b[0mself\u001b[0m\u001b[0;34m.\u001b[0m\u001b[0m_event_handlers\u001b[0m\u001b[0;34m[\u001b[0m\u001b[0mmessage\u001b[0m\u001b[0;34m]\u001b[0m \u001b[0;34m=\u001b[0m \u001b[0mfunc\u001b[0m\u001b[0;34m\u001b[0m\u001b[0m\n\u001b[1;32m    165\u001b[0m \u001b[0;34m\u001b[0m\u001b[0m\n\u001b[0;32m--> 166\u001b[0;31m         \u001b[0msuper\u001b[0m\u001b[0;34m(\u001b[0m\u001b[0mXlibWindow\u001b[0m\u001b[0;34m,\u001b[0m \u001b[0mself\u001b[0m\u001b[0;34m)\u001b[0m\u001b[0;34m.\u001b[0m\u001b[0m__init__\u001b[0m\u001b[0;34m(\u001b[0m\u001b[0;34m*\u001b[0m\u001b[0margs\u001b[0m\u001b[0;34m,\u001b[0m \u001b[0;34m**\u001b[0m\u001b[0mkwargs\u001b[0m\u001b[0;34m)\u001b[0m\u001b[0;34m\u001b[0m\u001b[0m\n\u001b[0m\u001b[1;32m    167\u001b[0m \u001b[0;34m\u001b[0m\u001b[0m\n\u001b[1;32m    168\u001b[0m         \u001b[0;32mglobal\u001b[0m \u001b[0m_can_detect_autorepeat\u001b[0m\u001b[0;34m\u001b[0m\u001b[0m\n",
      "\u001b[0;32m/opt/conda/lib/python3.6/site-packages/pyglet/window/__init__.py\u001b[0m in \u001b[0;36m__init__\u001b[0;34m(self, width, height, caption, resizable, style, fullscreen, visible, vsync, display, screen, config, context, mode)\u001b[0m\n\u001b[1;32m    499\u001b[0m \u001b[0;34m\u001b[0m\u001b[0m\n\u001b[1;32m    500\u001b[0m         \u001b[0;32mif\u001b[0m \u001b[0;32mnot\u001b[0m \u001b[0mdisplay\u001b[0m\u001b[0;34m:\u001b[0m\u001b[0;34m\u001b[0m\u001b[0m\n\u001b[0;32m--> 501\u001b[0;31m             \u001b[0mdisplay\u001b[0m \u001b[0;34m=\u001b[0m \u001b[0mget_platform\u001b[0m\u001b[0;34m(\u001b[0m\u001b[0;34m)\u001b[0m\u001b[0;34m.\u001b[0m\u001b[0mget_default_display\u001b[0m\u001b[0;34m(\u001b[0m\u001b[0;34m)\u001b[0m\u001b[0;34m\u001b[0m\u001b[0m\n\u001b[0m\u001b[1;32m    502\u001b[0m \u001b[0;34m\u001b[0m\u001b[0m\n\u001b[1;32m    503\u001b[0m         \u001b[0;32mif\u001b[0m \u001b[0;32mnot\u001b[0m \u001b[0mscreen\u001b[0m\u001b[0;34m:\u001b[0m\u001b[0;34m\u001b[0m\u001b[0m\n",
      "\u001b[0;32m/opt/conda/lib/python3.6/site-packages/pyglet/window/__init__.py\u001b[0m in \u001b[0;36mget_default_display\u001b[0;34m(self)\u001b[0m\n\u001b[1;32m   1831\u001b[0m         \u001b[0;34m:\u001b[0m\u001b[0mrtype\u001b[0m\u001b[0;34m:\u001b[0m\u001b[0;31m \u001b[0m\u001b[0;31m`\u001b[0m\u001b[0mDisplay\u001b[0m\u001b[0;31m`\u001b[0m\u001b[0;34m\u001b[0m\u001b[0m\n\u001b[1;32m   1832\u001b[0m         \"\"\"\n\u001b[0;32m-> 1833\u001b[0;31m         \u001b[0;32mreturn\u001b[0m \u001b[0mpyglet\u001b[0m\u001b[0;34m.\u001b[0m\u001b[0mcanvas\u001b[0m\u001b[0;34m.\u001b[0m\u001b[0mget_display\u001b[0m\u001b[0;34m(\u001b[0m\u001b[0;34m)\u001b[0m\u001b[0;34m\u001b[0m\u001b[0m\n\u001b[0m\u001b[1;32m   1834\u001b[0m \u001b[0;34m\u001b[0m\u001b[0m\n\u001b[1;32m   1835\u001b[0m \u001b[0;32mif\u001b[0m \u001b[0m_is_epydoc\u001b[0m\u001b[0;34m:\u001b[0m\u001b[0;34m\u001b[0m\u001b[0m\n",
      "\u001b[0;32m/opt/conda/lib/python3.6/site-packages/pyglet/canvas/__init__.py\u001b[0m in \u001b[0;36mget_display\u001b[0;34m()\u001b[0m\n\u001b[1;32m     80\u001b[0m \u001b[0;34m\u001b[0m\u001b[0m\n\u001b[1;32m     81\u001b[0m     \u001b[0;31m# Otherwise, create a new display and return it.\u001b[0m\u001b[0;34m\u001b[0m\u001b[0;34m\u001b[0m\u001b[0m\n\u001b[0;32m---> 82\u001b[0;31m     \u001b[0;32mreturn\u001b[0m \u001b[0mDisplay\u001b[0m\u001b[0;34m(\u001b[0m\u001b[0;34m)\u001b[0m\u001b[0;34m\u001b[0m\u001b[0m\n\u001b[0m\u001b[1;32m     83\u001b[0m \u001b[0;34m\u001b[0m\u001b[0m\n\u001b[1;32m     84\u001b[0m \u001b[0;32mif\u001b[0m \u001b[0m_is_epydoc\u001b[0m\u001b[0;34m:\u001b[0m\u001b[0;34m\u001b[0m\u001b[0m\n",
      "\u001b[0;32m/opt/conda/lib/python3.6/site-packages/pyglet/canvas/xlib.py\u001b[0m in \u001b[0;36m__init__\u001b[0;34m(self, name, x_screen)\u001b[0m\n\u001b[1;32m     84\u001b[0m         \u001b[0mself\u001b[0m\u001b[0;34m.\u001b[0m\u001b[0m_display\u001b[0m \u001b[0;34m=\u001b[0m \u001b[0mxlib\u001b[0m\u001b[0;34m.\u001b[0m\u001b[0mXOpenDisplay\u001b[0m\u001b[0;34m(\u001b[0m\u001b[0mname\u001b[0m\u001b[0;34m)\u001b[0m\u001b[0;34m\u001b[0m\u001b[0m\n\u001b[1;32m     85\u001b[0m         \u001b[0;32mif\u001b[0m \u001b[0;32mnot\u001b[0m \u001b[0mself\u001b[0m\u001b[0;34m.\u001b[0m\u001b[0m_display\u001b[0m\u001b[0;34m:\u001b[0m\u001b[0;34m\u001b[0m\u001b[0m\n\u001b[0;32m---> 86\u001b[0;31m             \u001b[0;32mraise\u001b[0m \u001b[0mNoSuchDisplayException\u001b[0m\u001b[0;34m(\u001b[0m\u001b[0;34m'Cannot connect to \"%s\"'\u001b[0m \u001b[0;34m%\u001b[0m \u001b[0mname\u001b[0m\u001b[0;34m)\u001b[0m\u001b[0;34m\u001b[0m\u001b[0m\n\u001b[0m\u001b[1;32m     87\u001b[0m \u001b[0;34m\u001b[0m\u001b[0m\n\u001b[1;32m     88\u001b[0m         \u001b[0mscreen_count\u001b[0m \u001b[0;34m=\u001b[0m \u001b[0mxlib\u001b[0m\u001b[0;34m.\u001b[0m\u001b[0mXScreenCount\u001b[0m\u001b[0;34m(\u001b[0m\u001b[0mself\u001b[0m\u001b[0;34m.\u001b[0m\u001b[0m_display\u001b[0m\u001b[0;34m)\u001b[0m\u001b[0;34m\u001b[0m\u001b[0m\n",
      "\u001b[0;31mNoSuchDisplayException\u001b[0m: Cannot connect to \"None\""
>>>>>>> d4d1eb91bd1ba513d1ca29a78b0df3f84903a00b
>>>>>>> 2a5c84fed3b031dbc88cb4492f65bdf1e0721f15
     ]
    }
   ],
   "source": [
    "# function to animate a list of frames\n",
    "def animate_frames(frames):\n",
    "    plt.figure(dpi = 72)\n",
    "    plt.axis('off')\n",
    "\n",
    "    # color option for plotting\n",
    "    # use Greys for greyscale\n",
    "    cmap = None if len(frames[0].shape)==3 else 'Greys'\n",
    "    patch = plt.imshow(frames[0], cmap=cmap)  \n",
    "\n",
    "    fanim = animation.FuncAnimation(plt.gcf(), \\\n",
    "        lambda x: patch.set_data(frames[x]), frames = len(frames), interval=30)\n",
    "    \n",
    "    display(display_animation(fanim, default_mode='once'))\n",
    "    \n",
    "\n",
    "agent.actor_local.load_state_dict(torch.load('checkpoint_actor.pth'))\n",
    "agent.critic_local.load_state_dict(torch.load('checkpoint_critic.pth'))\n",
    "\n",
    "frames = []\n",
    "state = env.reset()\n",
    "agent.reset() \n",
    "for t in range(1000):\n",
    "    action = agent.act(state)\n",
    "    frames.append(env.render(mode='rgb_array')) \n",
    "    next_state, reward, done, _ = env.step(action)\n",
    "    state=next_state\n",
    "    if done:\n",
    "        break"
   ]
  },
  {
   "cell_type": "code",
   "execution_count": null,
   "metadata": {},
   "outputs": [],
   "source": []
  },
  {
   "cell_type": "code",
   "execution_count": null,
   "metadata": {},
   "outputs": [],
   "source": []
  }
 ],
 "metadata": {
  "kernelspec": {
   "display_name": "cv3",
   "language": "python",
   "name": "cv3"
  },
  "language_info": {
   "codemirror_mode": {
    "name": "ipython",
    "version": 3
   },
   "file_extension": ".py",
   "mimetype": "text/x-python",
   "name": "python",
   "nbconvert_exporter": "python",
   "pygments_lexer": "ipython3",
<<<<<<< HEAD
   "version": "3.6.6"
=======
   "version": "3.7.0"
>>>>>>> d4d1eb91bd1ba513d1ca29a78b0df3f84903a00b
  }
 },
 "nbformat": 4,
 "nbformat_minor": 2
}
