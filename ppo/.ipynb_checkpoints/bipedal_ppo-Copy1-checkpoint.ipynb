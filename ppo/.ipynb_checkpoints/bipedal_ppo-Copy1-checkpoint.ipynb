{
 "cells": [
  {
   "cell_type": "code",
   "execution_count": 1,
   "metadata": {},
   "outputs": [],
   "source": [
    "import gym\n",
    "import random\n",
    "import datetime\n",
    "import torch\n",
    "import numpy as np\n",
    "from collections import deque\n",
    "import matplotlib.pyplot as plt\n",
    "%matplotlib inline\n",
    "\n",
    "from model import *\n",
    "import utils\n",
    "from parallelEnv import parallelEnv\n",
    "\n",
    "# imports for rendering outputs in Jupyter.\n",
    "from JSAnimation.IPython_display import display_animation\n",
    "from matplotlib import animation\n",
    "from IPython.display import display\n",
    "\n",
    "# Some more magic so that the notebook will reload external python modules;\n",
    "# see http://stackoverflow.com/questions/1907993/autoreload-of-modules-in-ipython\n",
    "%load_ext autoreload\n",
    "%autoreload 2"
   ]
  },
  {
   "cell_type": "code",
   "execution_count": 2,
   "metadata": {},
   "outputs": [
    {
     "name": "stdout",
     "output_type": "stream",
     "text": [
      "\u001b[33mWARN: gym.spaces.Box autodetected dtype as <class 'numpy.float32'>. Please provide explicit dtype.\u001b[0m\n",
      "\u001b[33mWARN: gym.spaces.Box autodetected dtype as <class 'numpy.float32'>. Please provide explicit dtype.\u001b[0m\n"
     ]
    }
   ],
   "source": [
    "env = gym.make('BipedalWalker-v2')"
   ]
  },
  {
   "cell_type": "code",
   "execution_count": 3,
   "metadata": {},
   "outputs": [
    {
     "name": "stdout",
     "output_type": "stream",
     "text": [
      "Action space: Box(4,)\t Observation space: Box(24,)\n"
     ]
    }
   ],
   "source": [
    "#lets print out some info about the env\n",
    "print (\"Action space: {}\\t Observation space: {}\".format(env.action_space,env.observation_space))"
   ]
  },
  {
   "cell_type": "code",
   "execution_count": 4,
   "metadata": {},
   "outputs": [
    {
     "name": "stdout",
     "output_type": "stream",
     "text": [
      "Step: 0\t state: [ 2.74736132e-03 -1.80533796e-05  1.40437089e-03 -1.59998786e-02]...\t action: [0.09762701 0.43037874 0.20552675 0.08976637]\t done: False\n",
      "\n",
      "Step: 1\t state: [ 0.00245539 -0.00693409  0.0070726   0.01954935]...\t action: [-0.1526904   0.29178822 -0.12482557  0.78354603]\t done: False\n",
      "\n",
      "Step: 2\t state: [0.0025491  0.00254573 0.00922413 0.00672575]...\t action: [ 0.92732555 -0.23311697  0.5834501   0.05778984]\t done: False\n",
      "\n",
      "Step: 3\t state: [-0.02497795 -0.05565681 -0.0322394  -0.0114644 ]...\t action: [ 0.13608912  0.85119325 -0.85792786 -0.8257414 ]\t done: False\n",
      "\n",
      "Step: 4\t state: [-0.03810742 -0.02684064 -0.01018439 -0.00028265]...\t action: [-0.9595632   0.6652397   0.5563135   0.74002427]\t done: False\n",
      "\n",
      "Step: 5\t state: [-0.04034078 -0.00448927  0.02452209  0.07418856]...\t action: [ 0.9572367   0.59831715 -0.07704128  0.56105834]\t done: False\n",
      "\n",
      "Step: 6\t state: [-0.05752924 -0.03441599  0.01659872  0.0676573 ]...\t action: [-0.76345116  0.27984205 -0.71329343  0.88933784]\t done: False\n",
      "\n",
      "Step: 7\t state: [-0.04742945  0.02015482  0.05315818  0.08225651]...\t action: [ 0.04369664 -0.17067613 -0.47088876  0.5484674 ]\t done: False\n",
      "\n",
      "Step: 8\t state: [-0.032563    0.02969797  0.04517794  0.10635244]...\t action: [-0.08769934  0.1368679  -0.9624204   0.23527099]\t done: False\n",
      "\n",
      "Step: 9\t state: [-0.01642234  0.03227749  0.05402136  0.09184526]...\t action: [0.22419144 0.23386799 0.8874962  0.3636406 ]\t done: False\n",
      "\n",
      "Step: 10\t state: [-0.02086695 -0.00885708  0.03070942  0.07383107]...\t action: [-0.2809842  -0.12593609  0.3952624  -0.8795491 ]\t done: False\n",
      "\n",
      "Step: 11\t state: [-0.02891052 -0.01609012  0.01603164  0.05242421]...\t action: [ 0.33353344  0.34127575 -0.5792349  -0.7421474 ]\t done: False\n",
      "\n",
      "Step: 12\t state: [-0.03270729 -0.00761611  0.01862724  0.03616641]...\t action: [-0.3691433  -0.27257845  0.14039354 -0.12279698]\t done: False\n",
      "\n",
      "Step: 13\t state: [-0.03288338 -0.00039193  0.01836451  0.01786178]...\t action: [ 0.9767477  -0.79591036 -0.5822465  -0.677381  ]\t done: False\n",
      "\n",
      "Step: 14\t state: [-0.04027582 -0.01480364  0.01064955  0.00444919]...\t action: [ 0.30621666 -0.4934168  -0.06737845 -0.5111488 ]\t done: False\n",
      "\n",
      "Step: 15\t state: [-0.05209399 -0.02366411  0.00554635 -0.01220622]...\t action: [-0.68206084 -0.7792497   0.31265917 -0.7236341 ]\t done: False\n",
      "\n",
      "Step: 16\t state: [-0.05716548 -0.01018621  0.01270619 -0.03284786]...\t action: [-0.6068353  -0.26254967  0.6419865  -0.80579746]\t done: False\n",
      "\n",
      "Step: 17\t state: [-0.06299067 -0.01171697  0.01112353 -0.05335737]...\t action: [ 0.6758898  -0.8078032   0.95291895 -0.0626976 ]\t done: False\n",
      "\n",
      "Step: 18\t state: [-0.08038855 -0.03488528 -0.00220849 -0.06913987]...\t action: [ 0.9535222   0.20969103  0.47852716 -0.9216244 ]\t done: False\n",
      "\n",
      "Step: 19\t state: [-0.10490829 -0.04913387 -0.00852596 -0.08341093]...\t action: [-0.43438607 -0.7596069  -0.4077196  -0.7625446 ]\t done: False\n",
      "\n",
      "Step: 20\t state: [-0.11390205 -0.01805331  0.00878556 -0.10238734]...\t action: [-0.36403364 -0.17147401 -0.871705    0.38494423]\t done: False\n",
      "\n",
      "Step: 21\t state: [-0.10315835  0.02139199  0.03698975 -0.09916123]...\t action: [ 0.13320291 -0.46922103  0.04649611 -0.812119  ]\t done: False\n",
      "\n",
      "Step: 22\t state: [-0.09630013  0.01359288  0.02757622 -0.13425652]...\t action: [ 0.15189299  0.8585924  -0.36286208  0.33482075]\t done: False\n",
      "\n",
      "Step: 23\t state: [-0.08602425  0.02049622  0.04956372 -0.12029596]...\t action: [-0.7364043   0.4326544  -0.42118782 -0.6336173 ]\t done: False\n",
      "\n",
      "Step: 24\t state: [-0.06143095  0.0490461   0.06221405 -0.15277072]...\t action: [ 0.17302588 -0.9597849   0.65788007 -0.99060905]\t done: False\n",
      "\n",
      "Step: 25\t state: [-0.05442078  0.0139768   0.0267457  -0.18354967]...\t action: [ 0.35563308 -0.45998406  0.47038805  0.9243771 ]\t done: False\n",
      "\n",
      "Step: 26\t state: [-0.06174186 -0.01469762  0.01669001 -0.18109709]...\t action: [-0.50249374  0.15231466  0.18408386  0.14450382]\t done: False\n",
      "\n",
      "Step: 27\t state: [-0.06193959 -0.0004457   0.03370702 -0.19082685]...\t action: [-0.55383676  0.905498   -0.10574924  0.69281733]\t done: False\n",
      "\n",
      "Step: 28\t state: [-0.05143194  0.02098514  0.05230963 -0.20379074]...\t action: [ 0.39895856 -0.4051261   0.62759566 -0.20698851]\t done: False\n",
      "\n",
      "Step: 29\t state: [-0.0630009  -0.02316452  0.00516618 -0.23512077]...\t action: [0.7622064  0.16254574 0.7634707  0.38506317]\t done: False\n",
      "\n",
      "Step: 30\t state: [-0.09091986 -0.05587739 -0.00822312 -0.24260088]...\t action: [0.45050856 0.00264876 0.91216725 0.2879804 ]\t done: False\n",
      "\n",
      "Step: 31\t state: [-0.12329063 -0.06480121 -0.00893466 -0.25487041]...\t action: [-0.1522899   0.21278642 -0.9616136  -0.39685038]\t done: False\n",
      "\n",
      "Step: 32\t state: [-0.13360183 -0.0206872   0.02728643 -0.26458719]...\t action: [ 0.32034707 -0.41984478  0.23603086 -0.1424626 ]\t done: False\n",
      "\n",
      "Step: 33\t state: [-0.15556958 -0.04397809  0.00325556 -0.29029594]...\t action: [-0.7290519  -0.40343535  0.13992982  0.18174553]\t done: False\n",
      "\n",
      "Step: 34\t state: [-0.1658605  -0.02060507  0.02321836 -0.29936455]...\t action: [ 0.1486505   0.30640164  0.30420655 -0.13716313]\t done: False\n",
      "\n",
      "Step: 35\t state: [-0.18409288 -0.03649389  0.01838483 -0.30734568]...\t action: [ 0.7930932  -0.26487625 -0.12827015  0.78384674]\t done: False\n",
      "\n",
      "Step: 36\t state: [-0.19806322 -0.03132876  0.16416331 -0.11710608]...\t action: [ 0.61238796  0.40777716 -0.79954624  0.83896524]\t done: False\n",
      "\n",
      "Step: 37\t state: [-0.20226863 -0.01001143  0.24650073 -0.03974302]...\t action: [ 0.4284826  0.997694  -0.7011034  0.7362521]\t done: False\n",
      "\n",
      "Step: 38\t state: [-0.19762079  0.00892034  0.29996873 -0.01900299]...\t action: [-0.67501414  0.23111913 -0.75236005  0.69601643]\t done: False\n",
      "\n",
      "Step: 39\t state: [-0.18643019  0.02229384  0.32940399 -0.01390953]...\t action: [ 0.6146379   0.13820148 -0.1856334  -0.861666  ]\t done: False\n",
      "\n",
      "Step: 40\t state: [-0.18455482  0.00367388  0.30622865 -0.04440015]...\t action: [ 0.39485756 -0.09291463  0.4441112   0.73276466]\t done: False\n",
      "\n",
      "Step: 41\t state: [-0.1974421  -0.02579746  0.29755488 -0.04535169]...\t action: [ 0.951043    0.7116067  -0.97657186 -0.28004387]\t done: False\n",
      "\n",
      "Step: 42\t state: [-0.21221477 -0.02962658  0.30212608 -0.05323447]...\t action: [ 0.4599811  -0.65674067  0.04207321 -0.89132404]\t done: False\n",
      "\n",
      "Step: 43\t state: [-0.2361806  -0.04850997  0.28818884 -0.07871921]...\t action: [-0.60000694 -0.9629564   0.5873954  -0.5521506 ]\t done: False\n",
      "\n",
      "Step: 44\t state: [-0.26092851 -0.04959254  0.27986592 -0.10284524]...\t action: [-0.30929664  0.8561626   0.4088288  -0.93632215]\t done: False\n",
      "\n",
      "Step: 45\t state: [-0.28441861 -0.04774232  0.3084363  -0.09409122]...\t action: [-0.6706117   0.2429568   0.15445718 -0.5242144 ]\t done: False\n",
      "\n",
      "Step: 46\t state: [-0.3085165  -0.04823014  0.30696822 -0.11227352]...\t action: [0.868428   0.22793192 0.07126561 0.17981996]\t done: False\n",
      "\n",
      "Step: 47\t state: [-0.35004675 -0.08307391  0.28910019 -0.12031579]...\t action: [ 0.46024406 -0.37611002 -0.20355788 -0.5803125 ]\t done: False\n",
      "\n",
      "Step: 48\t state: [-0.39913443 -0.09816138  0.25251729 -0.15159535]...\t action: [-0.62761396  0.8887448   0.4791016  -0.01908238]\t done: False\n",
      "\n",
      "Step: 49\t state: [-0.44562268 -0.09375004  0.31029791 -0.04928668]...\t action: [-0.5451707  -0.49128702 -0.88394165 -0.13116676]\t done: False\n",
      "\n",
      "Step: 50\t state: [-0.46713263 -0.04328225  0.34143539 -0.04849217]...\t action: [-0.37640825  0.39268696 -0.24449632 -0.64079267]\t done: False\n",
      "\n",
      "Step: 51\t state: [-0.48301089 -0.03179054  0.36071157 -0.06116723]...\t action: [-0.9506425  -0.86550075  0.35878554 -0.09260631]\t done: False\n",
      "\n",
      "Step: 52\t state: [-0.49194315 -0.01795886  0.34283137 -0.09466313]...\t action: [ 0.07315842  0.7933426   0.9806779  -0.56620604]\t done: False\n",
      "\n",
      "Step: 53\t state: [-0.51893705 -0.05394948  0.3448958  -0.09177964]...\t action: [ 0.3261564  -0.47335523 -0.958698    0.5167573 ]\t done: False\n",
      "\n",
      "Step: 54\t state: [-0.53508365 -0.03229545  0.34191876 -0.12122711]...\t action: [-0.3599657  -0.2330722   0.17663422  0.6620969 ]\t done: False\n",
      "\n",
      "Step: 55\t state: [-0.54849011 -0.02681519  0.33552    -0.14339983]...\t action: [ 0.2579637   0.7453013  -0.45291594  0.59609365]\t done: False\n",
      "\n",
      "Step: 56\t state: [-0.56077743 -0.02436143  0.35837766 -0.15851624]...\t action: [-0.6287281   0.9055833   0.37497655 -0.5689846 ]\t done: False\n",
      "\n",
      "Step: 57\t state: [-0.58813012 -0.05458886  0.31638147 -0.16989536]...\t action: [ 0.8947412   0.46171162 -0.49211672 -0.57337606]\t done: False\n",
      "\n",
      "Step: 58\t state: [-0.6229127  -0.06955683  0.31116094 -0.18012451]...\t action: [ 0.03640143 -0.94867456 -0.5850598  -0.15062906]\t done: False\n",
      "\n",
      "Step: 59\t state: [-0.65061045 -0.0554381   0.28764164 -0.20323936]...\t action: [-0.25166005 -0.07284915 -0.4447426   0.1735687 ]\t done: False\n",
      "\n",
      "Step: 60\t state: [-0.67286271 -0.04444868  0.29666785 -0.22489553]...\t action: [ 0.7277112  -0.76493627  0.03475821 -0.7358638 ]\t done: False\n",
      "\n",
      "Step: 61\t state: [-0.71063864 -0.07557282  0.27582416 -0.22767038]...\t action: [ 0.43371937 -0.2078806   0.13084263 -0.6334403 ]\t done: True\n",
      "\n"
     ]
    }
   ],
   "source": [
    "#lets play a random episode\n",
    "state = env.reset()\n",
    "done = False\n",
    "step_count = 0\n",
    "while not done:\n",
    "    action = env.action_space.sample()\n",
    "    next_state,reward,done,_ = env.step(action)\n",
    "    \n",
    "    print (\"Step: {}\\t state: {}...\\t action: {}\\t done: {}\\n\".format(step_count,state[:4],action,done))\n",
    "    \n",
    "    state = next_state\n",
    "    step_count+=1"
   ]
  },
  {
   "cell_type": "code",
   "execution_count": 5,
   "metadata": {},
   "outputs": [],
   "source": [
    "random_seed = 0\n",
    "\n",
    "#set random seed for env\n",
    "env.seed(0)\n",
    "\n",
    "# define policy\n",
    "actor = Actor(state_size=env.observation_space.shape[0],\n",
    "               action_size=env.action_space.shape[0],\n",
    "               seed=random_seed)\n",
    "\n",
    "critic = Critic()"
   ]
  },
  {
   "cell_type": "code",
   "execution_count": 6,
   "metadata": {},
   "outputs": [
    {
     "name": "stdout",
     "output_type": "stream",
     "text": [
      "using device:  cpu\n"
     ]
    }
   ],
   "source": [
    "# check which device is being used. \n",
    "# I recommend disabling gpu until you've made sure that the code runs\n",
    "device = utils.device\n",
    "print(\"using device: \",device)"
   ]
  },
  {
   "cell_type": "code",
   "execution_count": 7,
   "metadata": {},
   "outputs": [
    {
     "name": "stdout",
     "output_type": "stream",
     "text": [
      "\u001b[33mWARN: gym.spaces.Box autodetected dtype as <class 'numpy.float32'>. Please provide explicit dtype.\u001b[0m\n",
      "\u001b[33mWARN: gym.spaces.Box autodetected dtype as <class 'numpy.float32'>. Please provide explicit dtype.\u001b[0m\n",
      "\u001b[33mWARN: gym.spaces.Box autodetected dtype as <class 'numpy.float32'>. Please provide explicit dtype.\u001b[0m\n",
      "\u001b[33mWARN: gym.spaces.Box autodetected dtype as <class 'numpy.float32'>. Please provide explicit dtype.\u001b[0m\n",
      "\u001b[33mWARN: gym.spaces.Box autodetected dtype as <class 'numpy.float32'>. Please provide explicit dtype.\u001b[0m\n",
      "\u001b[33mWARN: gym.spaces.Box autodetected dtype as <class 'numpy.float32'>. Please provide explicit dtype.\u001b[0m\n",
      "\u001b[33mWARN: gym.spaces.Box autodetected dtype as <class 'numpy.float32'>. Please provide explicit dtype.\u001b[0m\n",
      "\u001b[33mWARN: gym.spaces.Box autodetected dtype as <class 'numpy.float32'>. Please provide explicit dtype.\u001b[0m\n",
      "\u001b[33mWARN: gym.spaces.Box autodetected dtype as <class 'numpy.float32'>. Please provide explicit dtype.\u001b[0m\n",
      "\u001b[33mWARN: gym.spaces.Box autodetected dtype as <class 'numpy.float32'>. Please provide explicit dtype.\u001b[0m\n",
      "\u001b[33mWARN: gym.spaces.Box autodetected dtype as <class 'numpy.float32'>. Please provide explicit dtype.\u001b[0m\n",
      "\u001b[33mWARN: gym.spaces.Box autodetected dtype as <class 'numpy.float32'>. Please provide explicit dtype.\u001b[0m\n",
      "\u001b[33mWARN: gym.spaces.Box autodetected dtype as <class 'numpy.float32'>. Please provide explicit dtype.\u001b[0m\n",
      "\u001b[33mWARN: gym.spaces.Box autodetected dtype as <class 'numpy.float32'>. Please provide explicit dtype.\u001b[0m\n",
      "\u001b[33mWARN: gym.spaces.Box autodetected dtype as <class 'numpy.float32'>. Please provide explicit dtype.\u001b[0m\n",
      "\u001b[33mWARN: gym.spaces.Box autodetected dtype as <class 'numpy.float32'>. Please provide explicit dtype.\u001b[0m\n"
     ]
    }
   ],
   "source": [
    "envs = parallelEnv('BipedalWalker-v2', n=8, seed=1234)"
   ]
  },
  {
   "cell_type": "code",
   "execution_count": 8,
   "metadata": {},
   "outputs": [
    {
     "data": {
      "text/plain": [
       "array([-0.7103045 , -0.02388744, -0.28877452,  0.8808639 ], dtype=float32)"
      ]
     },
     "execution_count": 8,
     "metadata": {},
     "output_type": "execute_result"
    }
   ],
   "source": [
    "envs.action_space.sample()"
   ]
  },
  {
   "cell_type": "code",
   "execution_count": 9,
   "metadata": {},
   "outputs": [],
   "source": [
    "class PPO:\n",
    "    def __init__(self):\n",
    "        pass\n",
    "    \n",
    "    def act(self,state):\n",
    "        pass\n",
    "    \n",
    "    def learn(self,experience):\n",
    "        pass\n",
    "    \n",
    "    def step(self):\n",
    "        pass"
   ]
  },
  {
   "cell_type": "code",
   "execution_count": null,
   "metadata": {},
   "outputs": [],
   "source": []
  },
  {
   "cell_type": "code",
   "execution_count": 23,
   "metadata": {},
   "outputs": [
    {
     "data": {
      "text/plain": [
       "(4,)"
      ]
     },
     "execution_count": 23,
     "metadata": {},
     "output_type": "execute_result"
    }
   ],
   "source": [
    "env.action_space.shape"
   ]
  },
  {
   "cell_type": "code",
   "execution_count": 48,
   "metadata": {},
   "outputs": [],
   "source": [
    "a = torch.from_numpy(np.array([1,2,3])/np.array([2,2,2]))"
   ]
  },
  {
   "cell_type": "code",
   "execution_count": 49,
   "metadata": {},
   "outputs": [
    {
     "data": {
      "text/plain": [
       "tensor([ 0.5000,  1.0000,  1.5000], dtype=torch.float64)"
      ]
     },
     "execution_count": 49,
     "metadata": {},
     "output_type": "execute_result"
    }
   ],
   "source": [
    "a"
   ]
  },
  {
   "cell_type": "code",
   "execution_count": 50,
   "metadata": {},
   "outputs": [
    {
     "data": {
      "text/plain": [
       "tensor([ 0.8000,  1.0000,  1.2000], dtype=torch.float64)"
      ]
     },
     "execution_count": 50,
     "metadata": {},
     "output_type": "execute_result"
    }
   ],
   "source": [
    "torch.clamp(a,.8,1.2) "
   ]
  },
  {
   "cell_type": "code",
   "execution_count": null,
   "metadata": {},
   "outputs": [],
   "source": []
  }
 ],
 "metadata": {
  "kernelspec": {
   "display_name": "cv3",
   "language": "python",
   "name": "cv3"
  },
  "language_info": {
   "codemirror_mode": {
    "name": "ipython",
    "version": 3
   },
   "file_extension": ".py",
   "mimetype": "text/x-python",
   "name": "python",
   "nbconvert_exporter": "python",
   "pygments_lexer": "ipython3",
   "version": "3.6.6"
  }
 },
 "nbformat": 4,
 "nbformat_minor": 2
}
