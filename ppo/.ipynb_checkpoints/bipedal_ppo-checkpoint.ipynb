{
 "cells": [
  {
   "cell_type": "code",
   "execution_count": 1,
   "metadata": {},
   "outputs": [],
   "source": [
    "import gym\n",
    "import random\n",
    "import datetime\n",
    "import torch\n",
    "import numpy as np\n",
    "from collections import deque\n",
    "import matplotlib.pyplot as plt\n",
    "%matplotlib inline\n",
    "\n",
    "from ppo_continuous import *\n",
    "\n",
    "# imports for rendering outputs in Jupyter.\n",
    "from JSAnimation.IPython_display import display_animation\n",
    "from matplotlib import animation\n",
    "from IPython.display import display\n",
    "\n",
    "# Some more magic so that the notebook will reload external python modules;\n",
    "# see http://stackoverflow.com/questions/1907993/autoreload-of-modules-in-ipython\n",
    "%load_ext autoreload\n",
    "%autoreload 2"
   ]
  },
  {
   "cell_type": "code",
   "execution_count": 2,
   "metadata": {
    "scrolled": false
   },
   "outputs": [
    {
     "name": "stdout",
     "output_type": "stream",
     "text": [
      "\u001b[33mWARN: gym.spaces.Box autodetected dtype as <class 'numpy.float32'>. Please provide explicit dtype.\u001b[0m\n",
      "\u001b[33mWARN: gym.spaces.Box autodetected dtype as <class 'numpy.float32'>. Please provide explicit dtype.\u001b[0m\n",
      "\u001b[33mWARN: gym.spaces.Box autodetected dtype as <class 'numpy.float32'>. Please provide explicit dtype.\u001b[0m\n",
      "\u001b[33mWARN: gym.spaces.Box autodetected dtype as <class 'numpy.float32'>. Please provide explicit dtype.\u001b[0m\n"
     ]
    },
    {
     "name": "stderr",
     "output_type": "stream",
     "text": [
      "2018-12-27 16:34:13,281 - root - INFO: total steps 143360, returns -46.39/-85.73/-133.10/146.59 (mean/median/min/max), 1234.25 steps/s\n"
     ]
    },
    {
     "name": "stdout",
     "output_type": "stream",
     "text": [
      "num_episodes: 157\n"
     ]
    },
    {
     "name": "stderr",
     "output_type": "stream",
     "text": [
      "2018-12-27 16:36:04,540 - root - INFO: total steps 286720, returns 128.42/155.17/-84.04/204.00 (mean/median/min/max), 1288.54 steps/s\n"
     ]
    },
    {
     "name": "stdout",
     "output_type": "stream",
     "text": [
      "num_episodes: 97\n"
     ]
    },
    {
     "name": "stderr",
     "output_type": "stream",
     "text": [
      "2018-12-27 16:37:51,490 - root - INFO: total steps 430080, returns 113.55/180.21/-140.23/229.96 (mean/median/min/max), 1340.45 steps/s\n"
     ]
    },
    {
     "name": "stdout",
     "output_type": "stream",
     "text": [
      "num_episodes: 113\n"
     ]
    },
    {
     "name": "stderr",
     "output_type": "stream",
     "text": [
      "2018-12-27 16:40:19,009 - root - INFO: total steps 573440, returns 78.06/83.14/-131.64/244.29 (mean/median/min/max), 971.81 steps/s\n"
     ]
    },
    {
     "name": "stdout",
     "output_type": "stream",
     "text": [
      "num_episodes: 135\n"
     ]
    },
    {
     "name": "stderr",
     "output_type": "stream",
     "text": [
      "2018-12-27 16:42:05,189 - root - INFO: total steps 716800, returns 154.70/230.59/-133.14/256.12 (mean/median/min/max), 1350.16 steps/s\n"
     ]
    },
    {
     "name": "stdout",
     "output_type": "stream",
     "text": [
      "num_episodes: 112\n"
     ]
    },
    {
     "name": "stderr",
     "output_type": "stream",
     "text": [
      "2018-12-27 16:44:54,934 - root - INFO: total steps 860160, returns 186.03/252.84/-215.40/267.19 (mean/median/min/max), 844.57 steps/s\n"
     ]
    },
    {
     "name": "stdout",
     "output_type": "stream",
     "text": [
      "num_episodes: 113\n"
     ]
    },
    {
     "name": "stderr",
     "output_type": "stream",
     "text": [
      "2018-12-27 16:46:58,393 - root - INFO: total steps 1003520, returns 210.28/260.73/-111.63/270.17 (mean/median/min/max), 1161.19 steps/s\n"
     ]
    },
    {
     "name": "stdout",
     "output_type": "stream",
     "text": [
      "num_episodes: 119\n"
     ]
    },
    {
     "name": "stderr",
     "output_type": "stream",
     "text": [
      "2018-12-27 16:48:44,271 - root - INFO: total steps 1146880, returns 242.33/266.45/-118.16/272.97 (mean/median/min/max), 1354.02 steps/s\n"
     ]
    },
    {
     "name": "stdout",
     "output_type": "stream",
     "text": [
      "num_episodes: 117\n"
     ]
    },
    {
     "name": "stderr",
     "output_type": "stream",
     "text": [
      "2018-12-27 16:50:30,178 - root - INFO: total steps 1290240, returns 257.33/266.68/-58.52/275.42 (mean/median/min/max), 1353.66 steps/s\n"
     ]
    },
    {
     "name": "stdout",
     "output_type": "stream",
     "text": [
      "num_episodes: 116\n"
     ]
    },
    {
     "name": "stderr",
     "output_type": "stream",
     "text": [
      "2018-12-27 16:52:16,448 - root - INFO: total steps 1433600, returns 242.39/272.12/-44.29/280.16 (mean/median/min/max), 1349.02 steps/s\n"
     ]
    },
    {
     "name": "stdout",
     "output_type": "stream",
     "text": [
      "num_episodes: 126\n"
     ]
    },
    {
     "name": "stderr",
     "output_type": "stream",
     "text": [
      "2018-12-27 16:54:02,851 - root - INFO: total steps 1576960, returns 252.39/275.41/-114.80/280.72 (mean/median/min/max), 1347.33 steps/s\n"
     ]
    },
    {
     "name": "stdout",
     "output_type": "stream",
     "text": [
      "num_episodes: 130\n"
     ]
    },
    {
     "name": "stderr",
     "output_type": "stream",
     "text": [
      "2018-12-27 16:55:49,550 - root - INFO: total steps 1720320, returns 256.15/277.75/-110.96/283.23 (mean/median/min/max), 1343.60 steps/s\n"
     ]
    },
    {
     "name": "stdout",
     "output_type": "stream",
     "text": [
      "num_episodes: 132\n"
     ]
    },
    {
     "name": "stderr",
     "output_type": "stream",
     "text": [
      "2018-12-27 16:57:36,237 - root - INFO: total steps 1863680, returns 247.16/278.15/-116.76/283.11 (mean/median/min/max), 1343.76 steps/s\n"
     ]
    },
    {
     "name": "stdout",
     "output_type": "stream",
     "text": [
      "num_episodes: 134\n"
     ]
    },
    {
     "name": "stderr",
     "output_type": "stream",
     "text": [
      "2018-12-27 16:59:22,472 - root - INFO: total steps 2007040, returns 217.67/279.52/-114.87/285.34 (mean/median/min/max), 1349.47 steps/s\n"
     ]
    },
    {
     "name": "stdout",
     "output_type": "stream",
     "text": [
      "num_episodes: 146\n"
     ]
    },
    {
     "name": "stderr",
     "output_type": "stream",
     "text": [
      "2018-12-27 17:01:08,555 - root - INFO: total steps 2150400, returns 266.21/283.48/-115.73/288.63 (mean/median/min/max), 1351.40 steps/s\n"
     ]
    },
    {
     "name": "stdout",
     "output_type": "stream",
     "text": [
      "num_episodes: 138\n"
     ]
    },
    {
     "name": "stderr",
     "output_type": "stream",
     "text": [
      "2018-12-27 17:02:55,000 - root - INFO: total steps 2293760, returns 276.81/283.31/-81.47/287.53 (mean/median/min/max), 1346.80 steps/s\n"
     ]
    },
    {
     "name": "stdout",
     "output_type": "stream",
     "text": [
      "num_episodes: 137\n"
     ]
    },
    {
     "name": "stderr",
     "output_type": "stream",
     "text": [
      "2018-12-27 17:04:41,221 - root - INFO: total steps 2437120, returns 261.86/284.55/-53.41/290.65 (mean/median/min/max), 1349.65 steps/s\n"
     ]
    },
    {
     "name": "stdout",
     "output_type": "stream",
     "text": [
      "num_episodes: 143\n"
     ]
    },
    {
     "name": "stderr",
     "output_type": "stream",
     "text": [
      "2018-12-27 17:06:27,407 - root - INFO: total steps 2580480, returns 257.81/284.74/-116.89/289.66 (mean/median/min/max), 1350.10 steps/s\n"
     ]
    },
    {
     "name": "stdout",
     "output_type": "stream",
     "text": [
      "num_episodes: 145\n"
     ]
    },
    {
     "name": "stderr",
     "output_type": "stream",
     "text": [
      "2018-12-27 17:08:13,658 - root - INFO: total steps 2723840, returns 265.73/284.12/-121.07/289.83 (mean/median/min/max), 1349.27 steps/s\n"
     ]
    },
    {
     "name": "stdout",
     "output_type": "stream",
     "text": [
      "num_episodes: 144\n"
     ]
    },
    {
     "name": "stderr",
     "output_type": "stream",
     "text": [
      "2018-12-27 17:09:59,820 - root - INFO: total steps 2867200, returns 251.82/286.60/-116.81/292.05 (mean/median/min/max), 1350.40 steps/s\n"
     ]
    },
    {
     "name": "stdout",
     "output_type": "stream",
     "text": [
      "num_episodes: 151\n"
     ]
    },
    {
     "name": "stderr",
     "output_type": "stream",
     "text": [
      "2018-12-27 17:14:29,466 - root - INFO: total steps 3010560, returns 244.86/286.99/-131.19/293.37 (mean/median/min/max), 531.66 steps/s\n"
     ]
    },
    {
     "name": "stdout",
     "output_type": "stream",
     "text": [
      "num_episodes: 156\n"
     ]
    },
    {
     "name": "stderr",
     "output_type": "stream",
     "text": [
      "2018-12-27 17:16:19,339 - root - INFO: total steps 3153920, returns 244.07/287.87/-132.84/292.03 (mean/median/min/max), 1304.78 steps/s\n"
     ]
    },
    {
     "name": "stdout",
     "output_type": "stream",
     "text": [
      "num_episodes: 157\n"
     ]
    },
    {
     "name": "stderr",
     "output_type": "stream",
     "text": [
      "2018-12-27 17:18:18,234 - root - INFO: total steps 3297280, returns 280.39/287.71/-58.87/291.21 (mean/median/min/max), 1205.78 steps/s\n"
     ]
    },
    {
     "name": "stdout",
     "output_type": "stream",
     "text": [
      "num_episodes: 147\n"
     ]
    },
    {
     "name": "stderr",
     "output_type": "stream",
     "text": [
      "2018-12-27 17:20:11,599 - root - INFO: total steps 3440640, returns 268.87/287.48/-118.45/290.95 (mean/median/min/max), 1264.59 steps/s\n"
     ]
    },
    {
     "name": "stdout",
     "output_type": "stream",
     "text": [
      "num_episodes: 151\n"
     ]
    },
    {
     "name": "stderr",
     "output_type": "stream",
     "text": [
      "2018-12-27 17:22:02,851 - root - INFO: total steps 3584000, returns 265.32/286.46/-119.60/290.20 (mean/median/min/max), 1288.61 steps/s\n"
     ]
    },
    {
     "name": "stdout",
     "output_type": "stream",
     "text": [
      "num_episodes: 150\n"
     ]
    },
    {
     "name": "stderr",
     "output_type": "stream",
     "text": [
      "2018-12-27 17:23:55,529 - root - INFO: total steps 3727360, returns 271.39/286.93/-6.15/291.94 (mean/median/min/max), 1272.31 steps/s\n"
     ]
    },
    {
     "name": "stdout",
     "output_type": "stream",
     "text": [
      "num_episodes: 146\n"
     ]
    },
    {
     "name": "stderr",
     "output_type": "stream",
     "text": [
      "2018-12-27 17:25:48,047 - root - INFO: total steps 3870720, returns 269.36/286.26/11.25/291.66 (mean/median/min/max), 1274.11 steps/s\n"
     ]
    },
    {
     "name": "stdout",
     "output_type": "stream",
     "text": [
      "num_episodes: 146\n"
     ]
    },
    {
     "name": "stderr",
     "output_type": "stream",
     "text": [
      "2018-12-27 17:27:38,630 - root - INFO: total steps 4014080, returns 272.38/288.55/-106.29/293.07 (mean/median/min/max), 1296.41 steps/s\n"
     ]
    },
    {
     "name": "stdout",
     "output_type": "stream",
     "text": [
      "num_episodes: 145\n"
     ]
    },
    {
     "name": "stderr",
     "output_type": "stream",
     "text": [
      "2018-12-27 17:29:31,625 - root - INFO: total steps 4157440, returns 279.22/287.88/-109.49/291.71 (mean/median/min/max), 1268.73 steps/s\n"
     ]
    },
    {
     "name": "stdout",
     "output_type": "stream",
     "text": [
      "num_episodes: 143\n"
     ]
    },
    {
     "name": "stderr",
     "output_type": "stream",
     "text": [
      "2018-12-27 17:31:24,804 - root - INFO: total steps 4300800, returns 238.12/288.32/-118.86/292.47 (mean/median/min/max), 1266.68 steps/s\n"
     ]
    },
    {
     "name": "stdout",
     "output_type": "stream",
     "text": [
      "num_episodes: 159\n"
     ]
    },
    {
     "name": "stderr",
     "output_type": "stream",
     "text": [
      "2018-12-27 17:33:17,954 - root - INFO: total steps 4444160, returns 284.62/288.38/106.48/292.18 (mean/median/min/max), 1267.00 steps/s\n"
     ]
    },
    {
     "name": "stdout",
     "output_type": "stream",
     "text": [
      "num_episodes: 143\n"
     ]
    },
    {
     "name": "stderr",
     "output_type": "stream",
     "text": [
      "2018-12-27 17:35:10,679 - root - INFO: total steps 4587520, returns 273.82/288.20/-99.70/292.16 (mean/median/min/max), 1271.78 steps/s\n"
     ]
    },
    {
     "name": "stdout",
     "output_type": "stream",
     "text": [
      "num_episodes: 148\n"
     ]
    },
    {
     "name": "stderr",
     "output_type": "stream",
     "text": [
      "2018-12-27 17:37:03,794 - root - INFO: total steps 4730880, returns 275.32/287.80/8.04/291.88 (mean/median/min/max), 1267.38 steps/s\n"
     ]
    },
    {
     "name": "stdout",
     "output_type": "stream",
     "text": [
      "num_episodes: 148\n"
     ]
    },
    {
     "name": "stderr",
     "output_type": "stream",
     "text": [
      "2018-12-27 17:38:56,679 - root - INFO: total steps 4874240, returns 264.93/287.91/-34.47/292.02 (mean/median/min/max), 1269.98 steps/s\n"
     ]
    },
    {
     "name": "stdout",
     "output_type": "stream",
     "text": [
      "num_episodes: 149\n"
     ]
    }
   ],
   "source": [
    "ppo_agent = ppo_continuous('BipedalWalker-v2')"
   ]
  },
  {
   "cell_type": "code",
   "execution_count": 3,
   "metadata": {},
   "outputs": [
    {
     "name": "stdout",
     "output_type": "stream",
     "text": [
      "\u001b[33mWARN: gym.spaces.Box autodetected dtype as <class 'numpy.float32'>. Please provide explicit dtype.\u001b[0m\n",
      "\u001b[33mWARN: gym.spaces.Box autodetected dtype as <class 'numpy.float32'>. Please provide explicit dtype.\u001b[0m\n"
     ]
    }
   ],
   "source": [
    "# define env\n",
    "env = gym.make('BipedalWalker-v2')"
   ]
  },
  {
   "cell_type": "code",
   "execution_count": 4,
   "metadata": {},
   "outputs": [],
   "source": [
    "# function to animate a list of frames\n",
    "def animate_frames(frames):\n",
    "    plt.figure(dpi = 72)\n",
    "    plt.axis('off')\n",
    "\n",
    "    # color option for plotting\n",
    "    # use Greys for greyscale\n",
    "    cmap = None if len(frames[0].shape)==3 else 'Greys'\n",
    "    patch = plt.imshow(frames[0], cmap=cmap)  \n",
    "\n",
    "    fanim = animation.FuncAnimation(plt.gcf(), \\\n",
    "        lambda x: patch.set_data(frames[x]), frames = len(frames), interval=30)\n",
    "    \n",
    "    display(display_animation(fanim, default_mode='once'))"
   ]
  },
  {
   "cell_type": "code",
   "execution_count": 5,
   "metadata": {},
   "outputs": [
    {
     "name": "stdout",
     "output_type": "stream",
     "text": [
      "Total reward: 286.1071759252182\n"
     ]
    }
   ],
   "source": [
    "frames = []\n",
    "state = env.reset()\n",
    "total_reward = 0\n",
    "for t in range(3000):\n",
    "    action = ppo_agent.act(state).numpy()[0]\n",
    "    frames.append(env.render(mode='rgb_array')) \n",
    "    next_state, reward, done, _ = env.step(action)\n",
    "    state=next_state\n",
    "    total_reward+= reward\n",
    "    if done:\n",
    "        break\n",
    "print (\"Total reward:\",total_reward)\n",
    "env.close()\n",
    "#animate_frames(frames)"
   ]
  },
  {
   "cell_type": "code",
   "execution_count": null,
   "metadata": {},
   "outputs": [],
   "source": []
  },
  {
   "cell_type": "code",
   "execution_count": null,
   "metadata": {},
   "outputs": [],
   "source": []
  }
 ],
 "metadata": {
  "kernelspec": {
   "display_name": "cv3",
   "language": "python",
   "name": "cv3"
  },
  "language_info": {
   "codemirror_mode": {
    "name": "ipython",
    "version": 3
   },
   "file_extension": ".py",
   "mimetype": "text/x-python",
   "name": "python",
   "nbconvert_exporter": "python",
   "pygments_lexer": "ipython3",
   "version": "3.6.6"
  }
 },
 "nbformat": 4,
 "nbformat_minor": 2
}
