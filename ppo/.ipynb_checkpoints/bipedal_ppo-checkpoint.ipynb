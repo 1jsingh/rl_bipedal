{
 "cells": [
  {
   "cell_type": "code",
   "execution_count": 2,
   "metadata": {},
   "outputs": [
    {
     "name": "stdout",
     "output_type": "stream",
     "text": [
      "The autoreload extension is already loaded. To reload it, use:\n",
      "  %reload_ext autoreload\n"
     ]
    }
   ],
   "source": [
    "import gym\n",
    "import random\n",
    "import datetime\n",
    "import torch\n",
    "import numpy as np\n",
    "from collections import deque\n",
    "import matplotlib.pyplot as plt\n",
    "%matplotlib inline\n",
    "\n",
    "from ppo_continuous import *\n",
    "\n",
    "# imports for rendering outputs in Jupyter.\n",
    "from JSAnimation.IPython_display import display_animation\n",
    "from matplotlib import animation\n",
    "from IPython.display import display\n",
    "\n",
    "# Some more magic so that the notebook will reload external python modules;\n",
    "# see http://stackoverflow.com/questions/1907993/autoreload-of-modules-in-ipython\n",
    "%load_ext autoreload\n",
    "%autoreload 2"
   ]
  },
  {
   "cell_type": "code",
   "execution_count": null,
   "metadata": {
    "scrolled": false
   },
   "outputs": [
    {
     "name": "stderr",
     "output_type": "stream",
     "text": [
      "/home/parminder0407/anaconda3/envs/cv3/lib/python3.6/site-packages/gym/envs/registration.py:14: PkgResourcesDeprecationWarning: Parameters to load are deprecated.  Call .resolve and .require separately.\n",
      "  result = entry_point.load(False)\n"
     ]
    },
    {
     "name": "stdout",
     "output_type": "stream",
     "text": [
      "\u001b[33mWARN: gym.spaces.Box autodetected dtype as <class 'numpy.float32'>. Please provide explicit dtype.\u001b[0m\n",
      "\u001b[33mWARN: gym.spaces.Box autodetected dtype as <class 'numpy.float32'>. Please provide explicit dtype.\u001b[0m\n",
      "\u001b[33mWARN: gym.spaces.Box autodetected dtype as <class 'numpy.float32'>. Please provide explicit dtype.\u001b[0m\n",
      "\u001b[33mWARN: gym.spaces.Box autodetected dtype as <class 'numpy.float32'>. Please provide explicit dtype.\u001b[0m\n"
     ]
    },
    {
     "name": "stderr",
     "output_type": "stream",
     "text": [
      "2018-12-26 14:12:40,149 - root - INFO: total steps 2048, returns -105.61/-104.98/-117.16/-96.18 (mean/median/min/max), 695.01 steps/s\n",
      "2018-12-26 14:12:43,106 - root - INFO: total steps 4096, returns -102.18/-104.90/-109.34/-86.83 (mean/median/min/max), 692.67 steps/s\n",
      "2018-12-26 14:12:45,875 - root - INFO: total steps 6144, returns -96.81/-96.81/-107.23/-86.38 (mean/median/min/max), 739.91 steps/s\n",
      "2018-12-26 14:12:48,768 - root - INFO: total steps 8192, returns -94.23/-94.23/-94.23/-94.23 (mean/median/min/max), 708.23 steps/s\n",
      "2018-12-26 14:12:51,545 - root - INFO: total steps 10240, returns -82.93/-82.93/-82.93/-82.93 (mean/median/min/max), 737.79 steps/s\n",
      "2018-12-26 14:12:54,318 - root - INFO: total steps 12288, returns -73.43/-73.43/-73.52/-73.34 (mean/median/min/max), 738.96 steps/s\n",
      "2018-12-26 14:12:57,118 - root - INFO: total steps 14336, returns -73.47/-73.47/-73.47/-73.47 (mean/median/min/max), 731.54 steps/s\n",
      "2018-12-26 14:12:59,917 - root - INFO: total steps 16384, returns -89.97/-89.97/-120.03/-59.92 (mean/median/min/max), 731.99 steps/s\n",
      "2018-12-26 14:13:02,797 - root - INFO: total steps 18432, returns -63.32/-63.32/-63.32/-63.32 (mean/median/min/max), 711.57 steps/s\n",
      "2018-12-26 14:13:05,573 - root - INFO: total steps 20480, returns -78.39/-69.21/-102.06/-63.91 (mean/median/min/max), 737.92 steps/s\n",
      "2018-12-26 14:13:08,332 - root - INFO: total steps 22528, returns -58.74/-58.74/-58.74/-58.74 (mean/median/min/max), 742.56 steps/s\n",
      "2018-12-26 14:13:11,107 - root - INFO: total steps 24576, returns -61.99/-61.99/-61.99/-61.99 (mean/median/min/max), 738.52 steps/s\n",
      "2018-12-26 14:13:13,977 - root - INFO: total steps 26624, returns -83.95/-83.95/-108.17/-59.73 (mean/median/min/max), 713.74 steps/s\n",
      "2018-12-26 14:13:16,748 - root - INFO: total steps 28672, returns -77.84/-62.17/-112.13/-59.22 (mean/median/min/max), 739.53 steps/s\n",
      "2018-12-26 14:13:19,541 - root - INFO: total steps 30720, returns -96.31/-106.69/-106.91/-75.34 (mean/median/min/max), 733.49 steps/s\n",
      "2018-12-26 14:13:22,321 - root - INFO: total steps 32768, returns -61.76/-61.76/-61.76/-61.76 (mean/median/min/max), 736.98 steps/s\n",
      "2018-12-26 14:13:25,097 - root - INFO: total steps 34816, returns -63.99/-63.99/-63.99/-63.99 (mean/median/min/max), 737.99 steps/s\n",
      "2018-12-26 14:13:27,959 - root - INFO: total steps 36864, returns -72.60/-54.97/-109.39/-53.43 (mean/median/min/max), 715.87 steps/s\n",
      "2018-12-26 14:13:30,715 - root - INFO: total steps 38912, returns -80.73/-80.73/-108.61/-52.85 (mean/median/min/max), 743.43 steps/s\n",
      "2018-12-26 14:13:33,461 - root - INFO: total steps 40960, returns -82.05/-82.05/-106.72/-57.38 (mean/median/min/max), 746.26 steps/s\n",
      "2018-12-26 14:13:36,195 - root - INFO: total steps 43008, returns -58.87/-58.87/-58.87/-58.87 (mean/median/min/max), 749.31 steps/s\n",
      "2018-12-26 14:13:39,049 - root - INFO: total steps 45056, returns -52.39/-52.39/-55.20/-49.59 (mean/median/min/max), 717.90 steps/s\n",
      "2018-12-26 14:13:42,051 - root - INFO: total steps 47104, returns -53.16/-53.16/-53.16/-53.16 (mean/median/min/max), 682.34 steps/s\n",
      "2018-12-26 14:13:44,880 - root - INFO: total steps 49152, returns -51.35/-51.35/-51.35/-51.35 (mean/median/min/max), 724.33 steps/s\n",
      "2018-12-26 14:13:47,641 - root - INFO: total steps 51200, returns -46.03/-46.03/-46.03/-46.03 (mean/median/min/max), 742.01 steps/s\n",
      "2018-12-26 14:13:50,416 - root - INFO: total steps 53248, returns -38.28/-38.28/-43.16/-33.40 (mean/median/min/max), 738.36 steps/s\n",
      "2018-12-26 14:13:53,262 - root - INFO: total steps 55296, returns -31.40/-31.40/-31.40/-31.40 (mean/median/min/max), 719.89 steps/s\n",
      "2018-12-26 14:13:56,035 - root - INFO: total steps 57344, returns -27.21/-27.21/-27.21/-27.21 (mean/median/min/max), 738.72 steps/s\n",
      "2018-12-26 14:13:58,814 - root - INFO: total steps 59392, returns -40.54/-40.54/-58.84/-22.23 (mean/median/min/max), 737.42 steps/s\n",
      "2018-12-26 14:14:01,595 - root - INFO: total steps 61440, returns -67.85/-67.85/-111.55/-24.15 (mean/median/min/max), 736.85 steps/s\n",
      "2018-12-26 14:14:04,529 - root - INFO: total steps 63488, returns -16.15/-16.15/-16.15/-16.15 (mean/median/min/max), 698.25 steps/s\n",
      "2018-12-26 14:14:07,568 - root - INFO: total steps 65536, returns -11.04/-11.04/-11.04/-11.04 (mean/median/min/max), 674.04 steps/s\n",
      "2018-12-26 14:14:10,503 - root - INFO: total steps 67584, returns -33.92/-33.92/-44.94/-22.91 (mean/median/min/max), 698.07 steps/s\n",
      "2018-12-26 14:14:13,430 - root - INFO: total steps 69632, returns -5.73/-5.73/-5.73/-5.73 (mean/median/min/max), 699.98 steps/s\n",
      "2018-12-26 14:14:16,315 - root - INFO: total steps 71680, returns -2.16/-2.16/-2.16/-2.16 (mean/median/min/max), 710.27 steps/s\n",
      "2018-12-26 14:14:19,303 - root - INFO: total steps 73728, returns -4.06/-4.06/-8.05/-0.08 (mean/median/min/max), 685.52 steps/s\n",
      "2018-12-26 14:14:22,239 - root - INFO: total steps 75776, returns -65.68/-65.68/-65.68/-65.68 (mean/median/min/max), 697.74 steps/s\n",
      "2018-12-26 14:14:25,164 - root - INFO: total steps 77824, returns 5.87/5.87/5.87/5.87 (mean/median/min/max), 700.58 steps/s\n",
      "2018-12-26 14:14:28,073 - root - INFO: total steps 79872, returns -61.71/-61.71/-124.43/1.01 (mean/median/min/max), 704.28 steps/s\n",
      "2018-12-26 14:14:30,967 - root - INFO: total steps 81920, returns -56.43/-56.43/-104.87/-7.99 (mean/median/min/max), 707.95 steps/s\n",
      "2018-12-26 14:14:33,955 - root - INFO: total steps 83968, returns -8.34/-8.34/-11.71/-4.96 (mean/median/min/max), 685.55 steps/s\n",
      "2018-12-26 14:14:36,723 - root - INFO: total steps 86016, returns -9.09/-9.09/-9.09/-9.09 (mean/median/min/max), 740.08 steps/s\n",
      "2018-12-26 14:14:39,471 - root - INFO: total steps 88064, returns -1.79/-1.79/-1.79/-1.79 (mean/median/min/max), 745.80 steps/s\n",
      "2018-12-26 14:14:42,245 - root - INFO: total steps 90112, returns -11.49/-11.49/-16.96/-6.01 (mean/median/min/max), 738.61 steps/s\n",
      "2018-12-26 14:14:45,078 - root - INFO: total steps 92160, returns -53.06/-53.06/-105.73/-0.40 (mean/median/min/max), 723.04 steps/s\n",
      "2018-12-26 14:14:47,825 - root - INFO: total steps 94208, returns 5.73/5.73/5.73/5.73 (mean/median/min/max), 745.96 steps/s\n",
      "2018-12-26 14:14:50,574 - root - INFO: total steps 96256, returns 17.48/17.48/17.48/17.48 (mean/median/min/max), 745.32 steps/s\n",
      "2018-12-26 14:14:53,392 - root - INFO: total steps 98304, returns 31.06/31.06/28.35/33.77 (mean/median/min/max), 726.88 steps/s\n",
      "2018-12-26 14:14:56,288 - root - INFO: total steps 100352, returns -86.32/-86.32/-104.22/-68.42 (mean/median/min/max), 707.67 steps/s\n",
      "2018-12-26 14:14:59,298 - root - INFO: total steps 102400, returns -35.38/-35.38/-35.38/-35.38 (mean/median/min/max), 680.57 steps/s\n",
      "2018-12-26 14:15:02,181 - root - INFO: total steps 104448, returns 43.76/43.76/43.53/44.00 (mean/median/min/max), 710.53 steps/s\n",
      "2018-12-26 14:15:04,925 - root - INFO: total steps 106496, returns 31.14/31.14/31.14/31.14 (mean/median/min/max), 746.69 steps/s\n",
      "2018-12-26 14:15:07,678 - root - INFO: total steps 108544, returns -47.47/-47.47/-47.47/-47.47 (mean/median/min/max), 744.35 steps/s\n",
      "2018-12-26 14:15:10,551 - root - INFO: total steps 110592, returns -3.85/-3.85/-3.85/-3.85 (mean/median/min/max), 712.93 steps/s\n",
      "2018-12-26 14:15:13,310 - root - INFO: total steps 112640, returns -3.50/-3.50/-51.45/44.45 (mean/median/min/max), 742.74 steps/s\n",
      "2018-12-26 14:15:16,052 - root - INFO: total steps 114688, returns 49.71/49.71/49.71/49.71 (mean/median/min/max), 747.08 steps/s\n",
      "2018-12-26 14:15:18,797 - root - INFO: total steps 116736, returns 63.16/63.16/63.16/63.16 (mean/median/min/max), 746.41 steps/s\n",
      "2018-12-26 14:15:21,572 - root - INFO: total steps 118784, returns 3.33/42.96/-103.53/70.54 (mean/median/min/max), 738.38 steps/s\n",
      "2018-12-26 14:15:24,435 - root - INFO: total steps 120832, returns 53.47/53.47/53.47/53.47 (mean/median/min/max), 715.59 steps/s\n",
      "2018-12-26 14:15:27,162 - root - INFO: total steps 122880, returns 53.90/53.90/53.90/53.90 (mean/median/min/max), 751.30 steps/s\n",
      "2018-12-26 14:15:29,909 - root - INFO: total steps 124928, returns 45.47/45.47/45.47/45.47 (mean/median/min/max), 745.98 steps/s\n",
      "2018-12-26 14:15:32,693 - root - INFO: total steps 126976, returns 14.68/52.68/-96.26/87.61 (mean/median/min/max), 735.85 steps/s\n",
      "2018-12-26 14:15:35,383 - root - INFO: total steps 129024, returns 70.44/70.44/70.44/70.44 (mean/median/min/max), 761.71 steps/s\n"
     ]
    },
    {
     "name": "stderr",
     "output_type": "stream",
     "text": [
      "2018-12-26 14:15:38,233 - root - INFO: total steps 131072, returns 80.49/80.49/80.49/80.49 (mean/median/min/max), 718.87 steps/s\n",
      "2018-12-26 14:15:40,947 - root - INFO: total steps 133120, returns 65.11/65.11/65.11/65.11 (mean/median/min/max), 754.78 steps/s\n",
      "2018-12-26 14:15:43,646 - root - INFO: total steps 135168, returns 56.22/56.22/54.19/58.25 (mean/median/min/max), 759.03 steps/s\n",
      "2018-12-26 14:15:46,375 - root - INFO: total steps 137216, returns -14.26/-14.26/-117.00/88.49 (mean/median/min/max), 750.82 steps/s\n",
      "2018-12-26 14:15:49,229 - root - INFO: total steps 139264, returns -23.24/-23.24/-123.46/76.99 (mean/median/min/max), 717.75 steps/s\n",
      "2018-12-26 14:15:51,985 - root - INFO: total steps 141312, returns -44.58/-99.86/-114.12/80.25 (mean/median/min/max), 743.47 steps/s\n",
      "2018-12-26 14:15:54,698 - root - INFO: total steps 143360, returns 88.15/88.15/85.87/90.43 (mean/median/min/max), 755.25 steps/s\n",
      "2018-12-26 14:15:57,430 - root - INFO: total steps 145408, returns 75.30/75.30/75.30/75.30 (mean/median/min/max), 749.89 steps/s\n",
      "2018-12-26 14:16:00,176 - root - INFO: total steps 147456, returns 79.82/79.82/79.82/79.82 (mean/median/min/max), 745.93 steps/s\n",
      "2018-12-26 14:16:03,046 - root - INFO: total steps 149504, returns 65.76/65.76/55.95/75.56 (mean/median/min/max), 713.97 steps/s\n",
      "2018-12-26 14:16:05,820 - root - INFO: total steps 151552, returns 113.26/113.26/113.26/113.26 (mean/median/min/max), 738.51 steps/s\n",
      "2018-12-26 14:16:08,585 - root - INFO: total steps 153600, returns 98.89/98.89/98.89/98.89 (mean/median/min/max), 740.97 steps/s\n",
      "2018-12-26 14:16:11,347 - root - INFO: total steps 155648, returns -7.01/-30.16/-98.57/107.69 (mean/median/min/max), 741.78 steps/s\n",
      "2018-12-26 14:16:14,185 - root - INFO: total steps 157696, returns 122.64/122.64/122.64/122.64 (mean/median/min/max), 722.09 steps/s\n",
      "2018-12-26 14:16:16,933 - root - INFO: total steps 159744, returns 103.06/103.06/103.06/103.06 (mean/median/min/max), 745.56 steps/s\n",
      "2018-12-26 14:16:19,705 - root - INFO: total steps 161792, returns 75.49/75.49/75.49/75.49 (mean/median/min/max), 739.08 steps/s\n",
      "2018-12-26 14:16:22,460 - root - INFO: total steps 163840, returns 3.74/-43.36/-47.68/102.27 (mean/median/min/max), 743.69 steps/s\n",
      "2018-12-26 14:16:25,197 - root - INFO: total steps 165888, returns 122.62/122.62/122.62/122.62 (mean/median/min/max), 748.39 steps/s\n",
      "2018-12-26 14:16:28,020 - root - INFO: total steps 167936, returns 123.42/123.42/123.42/123.42 (mean/median/min/max), 725.82 steps/s\n",
      "2018-12-26 14:16:30,734 - root - INFO: total steps 169984, returns 56.21/56.21/-9.73/122.16 (mean/median/min/max), 755.05 steps/s\n",
      "2018-12-26 14:16:33,497 - root - INFO: total steps 172032, returns -3.13/-3.13/-78.45/72.19 (mean/median/min/max), 741.30 steps/s\n",
      "2018-12-26 14:16:36,222 - root - INFO: total steps 174080, returns 151.36/151.36/151.36/151.36 (mean/median/min/max), 752.11 steps/s\n",
      "2018-12-26 14:16:39,223 - root - INFO: total steps 176128, returns 149.02/149.02/149.02/149.02 (mean/median/min/max), 682.58 steps/s\n",
      "2018-12-26 14:16:42,109 - root - INFO: total steps 178176, returns 131.51/131.51/117.91/145.11 (mean/median/min/max), 709.98 steps/s\n",
      "2018-12-26 14:16:45,003 - root - INFO: total steps 180224, returns 145.73/145.73/145.73/145.73 (mean/median/min/max), 707.81 steps/s\n",
      "2018-12-26 14:16:47,892 - root - INFO: total steps 182272, returns 149.55/149.55/149.55/149.55 (mean/median/min/max), 709.19 steps/s\n",
      "2018-12-26 14:16:50,784 - root - INFO: total steps 184320, returns 41.79/41.79/-63.58/147.16 (mean/median/min/max), 708.50 steps/s\n",
      "2018-12-26 14:16:53,796 - root - INFO: total steps 186368, returns 115.71/115.71/106.93/124.49 (mean/median/min/max), 680.11 steps/s\n",
      "2018-12-26 14:16:56,695 - root - INFO: total steps 188416, returns 149.94/149.94/149.94/149.94 (mean/median/min/max), 706.88 steps/s\n",
      "2018-12-26 14:16:59,609 - root - INFO: total steps 190464, returns 162.38/162.38/162.38/162.38 (mean/median/min/max), 703.00 steps/s\n",
      "2018-12-26 14:17:02,426 - root - INFO: total steps 192512, returns 142.40/142.40/142.40/142.40 (mean/median/min/max), 727.41 steps/s\n",
      "2018-12-26 14:17:05,299 - root - INFO: total steps 194560, returns 122.35/122.35/79.69/165.01 (mean/median/min/max), 713.06 steps/s\n"
     ]
    }
   ],
   "source": [
    "ppo_agent = ppo_continuous('BipedalWalker-v2')"
   ]
  },
  {
   "cell_type": "code",
   "execution_count": null,
   "metadata": {},
   "outputs": [],
   "source": [
    "# define env\n",
    "\n",
    "env = gym.make('BipedalWalker-v2')"
   ]
  },
  {
   "cell_type": "code",
   "execution_count": null,
   "metadata": {},
   "outputs": [],
   "source": [
    "# evaluate the trained agent\n",
    "\n",
    "state = env.reset()\n",
    "done = False\n",
    "total_reward = 0\n",
    "\n",
    "while not done:\n",
    "    action = ppo_agent.act(state).numpy()[0]\n",
    "    next_state,reward,done,_ = env.step(action)\n",
    "    \n",
    "    total_reward+=reward\n",
    "    state = next_state\n",
    "\n",
    "print (total_reward)"
   ]
  },
  {
   "cell_type": "code",
   "execution_count": null,
   "metadata": {},
   "outputs": [],
   "source": []
  }
 ],
 "metadata": {
  "kernelspec": {
   "display_name": "cv3",
   "language": "python",
   "name": "cv3"
  },
  "language_info": {
   "codemirror_mode": {
    "name": "ipython",
    "version": 3
   },
   "file_extension": ".py",
   "mimetype": "text/x-python",
   "name": "python",
   "nbconvert_exporter": "python",
   "pygments_lexer": "ipython3",
   "version": "3.6.6"
  }
 },
 "nbformat": 4,
 "nbformat_minor": 2
}
