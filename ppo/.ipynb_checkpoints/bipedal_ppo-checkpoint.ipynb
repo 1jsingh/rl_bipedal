{
 "cells": [
  {
   "cell_type": "code",
   "execution_count": 3,
   "metadata": {},
   "outputs": [],
   "source": [
    "import gym\n",
    "import random\n",
    "import datetime\n",
    "import torch\n",
    "import numpy as np\n",
    "from collections import deque\n",
    "import matplotlib.pyplot as plt\n",
    "%matplotlib inline\n",
    "\n",
    "from ppo_continuous import *\n",
    "\n",
    "# imports for rendering outputs in Jupyter.\n",
    "from JSAnimation.IPython_display import display_animation\n",
    "from matplotlib import animation\n",
    "from IPython.display import display\n",
    "\n",
    "# Some more magic so that the notebook will reload external python modules;\n",
    "# see http://stackoverflow.com/questions/1907993/autoreload-of-modules-in-ipython\n",
    "%load_ext autoreload\n",
    "%autoreload 2"
   ]
  },
  {
   "cell_type": "code",
   "execution_count": 14,
   "metadata": {
    "scrolled": false
   },
   "outputs": [
    {
     "name": "stdout",
     "output_type": "stream",
     "text": [
      "\u001b[33mWARN: gym.spaces.Box autodetected dtype as <class 'numpy.float32'>. Please provide explicit dtype.\u001b[0m\n",
      "\u001b[33mWARN: gym.spaces.Box autodetected dtype as <class 'numpy.float32'>. Please provide explicit dtype.\u001b[0m\n",
      "\u001b[33mWARN: gym.spaces.Box autodetected dtype as <class 'numpy.float32'>. Please provide explicit dtype.\u001b[0m\n",
      "\u001b[33mWARN: gym.spaces.Box autodetected dtype as <class 'numpy.float32'>. Please provide explicit dtype.\u001b[0m\n"
     ]
    },
    {
     "name": "stderr",
     "output_type": "stream",
     "text": [
      "2018-12-26 20:04:21,508 - root - INFO: total steps 2048, returns -108.09/-114.74/-123.39/-82.44 (mean/median/min/max), 1207.55 steps/s\n",
      "2018-12-26 20:04:23,160 - root - INFO: total steps 4096, returns -109.46/-112.68/-124.53/-87.80 (mean/median/min/max), 1240.13 steps/s\n",
      "2018-12-26 20:04:24,887 - root - INFO: total steps 6144, returns -99.72/-101.95/-105.78/-90.13 (mean/median/min/max), 1185.96 steps/s\n",
      "2018-12-26 20:04:26,552 - root - INFO: total steps 8192, returns -88.25/-88.25/-106.27/-70.23 (mean/median/min/max), 1230.73 steps/s\n",
      "2018-12-26 20:04:28,263 - root - INFO: total steps 10240, returns -97.19/-100.78/-101.37/-89.42 (mean/median/min/max), 1196.94 steps/s\n",
      "2018-12-26 20:04:29,967 - root - INFO: total steps 12288, returns -84.66/-84.66/-84.66/-84.66 (mean/median/min/max), 1202.53 steps/s\n",
      "2018-12-26 20:04:31,608 - root - INFO: total steps 14336, returns -82.57/-82.57/-84.72/-80.43 (mean/median/min/max), 1248.87 steps/s\n",
      "2018-12-26 20:04:33,320 - root - INFO: total steps 16384, returns -90.94/-90.94/-101.89/-79.99 (mean/median/min/max), 1196.18 steps/s\n",
      "2018-12-26 20:04:34,969 - root - INFO: total steps 18432, returns -98.46/-99.19/-113.20/-83.01 (mean/median/min/max), 1242.39 steps/s\n",
      "2018-12-26 20:04:36,604 - root - INFO: total steps 20480, returns -81.17/-81.17/-81.17/-81.17 (mean/median/min/max), 1253.00 steps/s\n",
      "2018-12-26 20:04:38,241 - root - INFO: total steps 22528, returns -94.30/-93.84/-110.63/-78.89 (mean/median/min/max), 1251.68 steps/s\n",
      "2018-12-26 20:04:39,938 - root - INFO: total steps 24576, returns -105.20/-104.60/-124.13/-77.60 (mean/median/min/max), 1207.37 steps/s\n",
      "2018-12-26 20:04:41,592 - root - INFO: total steps 26624, returns -100.17/-104.20/-105.89/-82.79 (mean/median/min/max), 1238.65 steps/s\n",
      "2018-12-26 20:04:43,221 - root - INFO: total steps 28672, returns -96.65/-96.65/-113.76/-79.55 (mean/median/min/max), 1257.48 steps/s\n",
      "2018-12-26 20:04:44,854 - root - INFO: total steps 30720, returns -81.91/-81.91/-81.91/-81.91 (mean/median/min/max), 1254.75 steps/s\n",
      "2018-12-26 20:04:46,520 - root - INFO: total steps 32768, returns -78.93/-78.93/-78.93/-78.93 (mean/median/min/max), 1229.70 steps/s\n",
      "2018-12-26 20:04:48,284 - root - INFO: total steps 34816, returns -74.82/-74.82/-77.10/-72.54 (mean/median/min/max), 1161.94 steps/s\n",
      "2018-12-26 20:04:49,955 - root - INFO: total steps 36864, returns -70.85/-70.85/-70.85/-70.85 (mean/median/min/max), 1225.79 steps/s\n",
      "2018-12-26 20:04:51,610 - root - INFO: total steps 38912, returns -67.07/-67.07/-67.07/-67.07 (mean/median/min/max), 1237.99 steps/s\n",
      "2018-12-26 20:04:53,277 - root - INFO: total steps 40960, returns -59.32/-59.32/-59.32/-59.32 (mean/median/min/max), 1228.97 steps/s\n",
      "2018-12-26 20:04:54,942 - root - INFO: total steps 43008, returns -65.45/-65.45/-70.55/-60.35 (mean/median/min/max), 1230.26 steps/s\n",
      "2018-12-26 20:04:56,653 - root - INFO: total steps 45056, returns -66.28/-66.28/-66.28/-66.28 (mean/median/min/max), 1197.24 steps/s\n",
      "2018-12-26 20:04:58,313 - root - INFO: total steps 47104, returns -63.00/-63.00/-63.00/-63.00 (mean/median/min/max), 1234.24 steps/s\n",
      "2018-12-26 20:04:59,987 - root - INFO: total steps 49152, returns -53.20/-53.20/-54.33/-52.07 (mean/median/min/max), 1223.76 steps/s\n",
      "2018-12-26 20:05:01,642 - root - INFO: total steps 51200, returns -59.84/-59.84/-59.84/-59.84 (mean/median/min/max), 1238.24 steps/s\n",
      "2018-12-26 20:05:03,382 - root - INFO: total steps 53248, returns -48.25/-48.25/-48.25/-48.25 (mean/median/min/max), 1177.74 steps/s\n",
      "2018-12-26 20:05:05,055 - root - INFO: total steps 55296, returns -111.75/-104.44/-135.72/-102.38 (mean/median/min/max), 1224.21 steps/s\n",
      "2018-12-26 20:05:06,720 - root - INFO: total steps 57344, returns -103.01/-109.07/-133.58/-57.99 (mean/median/min/max), 1230.79 steps/s\n",
      "2018-12-26 20:05:08,370 - root - INFO: total steps 59392, returns -111.40/-111.90/-125.98/-96.25 (mean/median/min/max), 1241.93 steps/s\n",
      "2018-12-26 20:05:10,092 - root - INFO: total steps 61440, returns -43.53/-43.53/-54.14/-32.91 (mean/median/min/max), 1189.36 steps/s\n",
      "2018-12-26 20:05:11,754 - root - INFO: total steps 63488, returns -33.45/-33.45/-33.45/-33.45 (mean/median/min/max), 1233.06 steps/s\n",
      "2018-12-26 20:05:13,411 - root - INFO: total steps 65536, returns -116.12/-116.12/-130.00/-102.24 (mean/median/min/max), 1236.21 steps/s\n",
      "2018-12-26 20:05:15,086 - root - INFO: total steps 67584, returns -51.26/-29.97/-98.53/-25.28 (mean/median/min/max), 1223.58 steps/s\n",
      "2018-12-26 20:05:16,729 - root - INFO: total steps 69632, returns -51.34/-51.34/-51.34/-51.34 (mean/median/min/max), 1247.06 steps/s\n",
      "2018-12-26 20:05:18,440 - root - INFO: total steps 71680, returns -49.27/-49.27/-49.27/-49.27 (mean/median/min/max), 1197.56 steps/s\n",
      "2018-12-26 20:05:20,129 - root - INFO: total steps 73728, returns -48.36/-48.36/-100.04/3.32 (mean/median/min/max), 1213.12 steps/s\n",
      "2018-12-26 20:05:21,834 - root - INFO: total steps 75776, returns -17.23/-17.23/-22.29/-12.16 (mean/median/min/max), 1201.36 steps/s\n",
      "2018-12-26 20:05:23,509 - root - INFO: total steps 77824, returns -60.68/-60.68/-104.83/-16.54 (mean/median/min/max), 1223.09 steps/s\n",
      "2018-12-26 20:05:25,174 - root - INFO: total steps 79872, returns -105.33/-103.50/-115.23/-99.08 (mean/median/min/max), 1230.92 steps/s\n",
      "2018-12-26 20:05:26,887 - root - INFO: total steps 81920, returns -24.93/-24.93/-24.93/-24.93 (mean/median/min/max), 1195.70 steps/s\n",
      "2018-12-26 20:05:28,567 - root - INFO: total steps 83968, returns -35.20/-35.20/-35.20/-35.20 (mean/median/min/max), 1219.66 steps/s\n",
      "2018-12-26 20:05:30,247 - root - INFO: total steps 86016, returns -11.33/-11.33/-11.77/-10.89 (mean/median/min/max), 1219.64 steps/s\n",
      "2018-12-26 20:05:31,916 - root - INFO: total steps 88064, returns -3.73/-3.73/-3.73/-3.73 (mean/median/min/max), 1227.42 steps/s\n",
      "2018-12-26 20:05:33,644 - root - INFO: total steps 90112, returns -62.97/-62.97/-109.57/-16.38 (mean/median/min/max), 1185.38 steps/s\n",
      "2018-12-26 20:05:35,312 - root - INFO: total steps 92160, returns -65.87/-103.41/-105.32/11.13 (mean/median/min/max), 1228.32 steps/s\n",
      "2018-12-26 20:05:36,966 - root - INFO: total steps 94208, returns -4.17/-4.17/-4.17/-4.17 (mean/median/min/max), 1238.43 steps/s\n",
      "2018-12-26 20:05:38,663 - root - INFO: total steps 96256, returns -4.10/-4.10/-4.10/-4.10 (mean/median/min/max), 1207.42 steps/s\n",
      "2018-12-26 20:05:40,339 - root - INFO: total steps 98304, returns -10.23/-10.23/-37.92/17.46 (mean/median/min/max), 1222.54 steps/s\n",
      "2018-12-26 20:05:42,152 - root - INFO: total steps 100352, returns -43.31/-43.31/-95.33/8.72 (mean/median/min/max), 1130.15 steps/s\n",
      "2018-12-26 20:05:43,850 - root - INFO: total steps 102400, returns 19.04/19.04/19.04/19.04 (mean/median/min/max), 1206.49 steps/s\n",
      "2018-12-26 20:05:45,598 - root - INFO: total steps 104448, returns -26.82/-26.82/-102.32/48.69 (mean/median/min/max), 1171.98 steps/s\n",
      "2018-12-26 20:05:47,295 - root - INFO: total steps 106496, returns -23.41/-23.41/-23.41/-23.41 (mean/median/min/max), 1207.43 steps/s\n",
      "2018-12-26 20:05:49,089 - root - INFO: total steps 108544, returns 39.92/39.92/34.48/45.37 (mean/median/min/max), 1141.84 steps/s\n",
      "2018-12-26 20:05:50,808 - root - INFO: total steps 110592, returns 44.34/44.34/44.34/44.34 (mean/median/min/max), 1192.29 steps/s\n",
      "2018-12-26 20:05:52,524 - root - INFO: total steps 112640, returns 10.57/10.57/10.57/10.57 (mean/median/min/max), 1193.48 steps/s\n",
      "2018-12-26 20:05:54,233 - root - INFO: total steps 114688, returns 71.17/71.17/71.17/71.17 (mean/median/min/max), 1198.62 steps/s\n",
      "2018-12-26 20:05:55,927 - root - INFO: total steps 116736, returns 63.94/63.94/57.49/70.39 (mean/median/min/max), 1209.48 steps/s\n",
      "2018-12-26 20:05:57,664 - root - INFO: total steps 118784, returns 112.25/112.25/112.25/112.25 (mean/median/min/max), 1180.02 steps/s\n",
      "2018-12-26 20:05:59,354 - root - INFO: total steps 120832, returns 99.18/99.18/99.18/99.18 (mean/median/min/max), 1211.76 steps/s\n",
      "2018-12-26 20:06:01,033 - root - INFO: total steps 122880, returns 106.63/106.63/97.55/115.71 (mean/median/min/max), 1220.44 steps/s\n",
      "2018-12-26 20:06:02,732 - root - INFO: total steps 124928, returns 141.43/141.43/141.43/141.43 (mean/median/min/max), 1206.13 steps/s\n",
      "2018-12-26 20:06:04,490 - root - INFO: total steps 126976, returns 116.10/116.10/116.10/116.10 (mean/median/min/max), 1165.50 steps/s\n"
     ]
    },
    {
     "name": "stderr",
     "output_type": "stream",
     "text": [
      "2018-12-26 20:06:06,170 - root - INFO: total steps 129024, returns 123.23/123.23/123.23/123.23 (mean/median/min/max), 1219.20 steps/s\n",
      "2018-12-26 20:06:07,842 - root - INFO: total steps 131072, returns 117.65/117.65/108.10/127.20 (mean/median/min/max), 1225.45 steps/s\n",
      "2018-12-26 20:06:09,517 - root - INFO: total steps 133120, returns 8.25/8.25/8.25/8.25 (mean/median/min/max), 1223.95 steps/s\n",
      "2018-12-26 20:06:11,196 - root - INFO: total steps 135168, returns 145.74/145.74/145.74/145.74 (mean/median/min/max), 1219.76 steps/s\n",
      "2018-12-26 20:06:12,953 - root - INFO: total steps 137216, returns 131.62/131.62/98.35/164.89 (mean/median/min/max), 1166.17 steps/s\n",
      "2018-12-26 20:06:14,630 - root - INFO: total steps 139264, returns -10.50/-10.50/-108.08/87.08 (mean/median/min/max), 1221.24 steps/s\n",
      "2018-12-26 20:06:16,300 - root - INFO: total steps 141312, returns 142.62/142.62/142.62/142.62 (mean/median/min/max), 1227.50 steps/s\n",
      "2018-12-26 20:06:17,945 - root - INFO: total steps 143360, returns 149.89/149.89/149.89/149.89 (mean/median/min/max), 1244.96 steps/s\n",
      "2018-12-26 20:06:19,677 - root - INFO: total steps 145408, returns 156.95/156.95/154.14/159.77 (mean/median/min/max), 1183.15 steps/s\n",
      "2018-12-26 20:06:21,357 - root - INFO: total steps 147456, returns 149.38/149.38/149.38/149.38 (mean/median/min/max), 1219.27 steps/s\n",
      "2018-12-26 20:06:23,016 - root - INFO: total steps 149504, returns 160.42/160.42/160.42/160.42 (mean/median/min/max), 1234.51 steps/s\n",
      "2018-12-26 20:06:24,673 - root - INFO: total steps 151552, returns 129.80/129.80/129.80/129.80 (mean/median/min/max), 1237.02 steps/s\n",
      "2018-12-26 20:06:26,346 - root - INFO: total steps 153600, returns 160.72/160.72/158.90/162.54 (mean/median/min/max), 1224.05 steps/s\n",
      "2018-12-26 20:06:28,067 - root - INFO: total steps 155648, returns 140.72/140.72/140.72/140.72 (mean/median/min/max), 1190.91 steps/s\n",
      "2018-12-26 20:06:29,743 - root - INFO: total steps 157696, returns 163.70/163.70/163.70/163.70 (mean/median/min/max), 1221.94 steps/s\n",
      "2018-12-26 20:06:31,405 - root - INFO: total steps 159744, returns 171.09/171.09/163.55/178.64 (mean/median/min/max), 1233.24 steps/s\n",
      "2018-12-26 20:06:33,052 - root - INFO: total steps 161792, returns 168.65/168.65/168.65/168.65 (mean/median/min/max), 1243.87 steps/s\n",
      "2018-12-26 20:06:34,755 - root - INFO: total steps 163840, returns 164.47/164.47/164.47/164.47 (mean/median/min/max), 1202.85 steps/s\n",
      "2018-12-26 20:06:36,393 - root - INFO: total steps 165888, returns 162.77/162.77/162.77/162.77 (mean/median/min/max), 1250.99 steps/s\n",
      "2018-12-26 20:06:38,047 - root - INFO: total steps 167936, returns 167.42/167.42/164.57/170.27 (mean/median/min/max), 1238.48 steps/s\n",
      "2018-12-26 20:06:39,706 - root - INFO: total steps 169984, returns 25.52/25.52/-116.40/167.44 (mean/median/min/max), 1234.82 steps/s\n",
      "2018-12-26 20:06:41,347 - root - INFO: total steps 172032, returns 185.67/185.67/185.67/185.67 (mean/median/min/max), 1249.11 steps/s\n",
      "2018-12-26 20:06:43,050 - root - INFO: total steps 174080, returns 163.10/163.10/155.67/170.52 (mean/median/min/max), 1202.43 steps/s\n",
      "2018-12-26 20:06:44,692 - root - INFO: total steps 176128, returns 159.33/159.33/159.33/159.33 (mean/median/min/max), 1248.44 steps/s\n",
      "2018-12-26 20:06:46,332 - root - INFO: total steps 178176, returns 183.91/183.91/183.91/183.91 (mean/median/min/max), 1249.08 steps/s\n",
      "2018-12-26 20:06:47,983 - root - INFO: total steps 180224, returns 168.02/168.02/168.02/168.02 (mean/median/min/max), 1240.83 steps/s\n",
      "2018-12-26 20:06:49,702 - root - INFO: total steps 182272, returns 126.36/126.36/77.01/175.70 (mean/median/min/max), 1192.23 steps/s\n",
      "2018-12-26 20:06:51,389 - root - INFO: total steps 184320, returns 177.27/177.27/177.27/177.27 (mean/median/min/max), 1213.97 steps/s\n",
      "2018-12-26 20:06:53,040 - root - INFO: total steps 186368, returns 166.23/166.23/166.23/166.23 (mean/median/min/max), 1241.01 steps/s\n",
      "2018-12-26 20:06:54,685 - root - INFO: total steps 188416, returns 180.73/180.73/180.73/180.73 (mean/median/min/max), 1245.64 steps/s\n",
      "2018-12-26 20:06:56,343 - root - INFO: total steps 190464, returns 174.83/174.83/172.01/177.65 (mean/median/min/max), 1235.71 steps/s\n",
      "2018-12-26 20:06:58,070 - root - INFO: total steps 192512, returns 195.84/195.84/195.84/195.84 (mean/median/min/max), 1186.09 steps/s\n",
      "2018-12-26 20:06:59,732 - root - INFO: total steps 194560, returns 69.18/69.18/-37.11/175.48 (mean/median/min/max), 1233.06 steps/s\n",
      "2018-12-26 20:07:01,389 - root - INFO: total steps 196608, returns 176.82/176.82/176.82/176.82 (mean/median/min/max), 1236.21 steps/s\n",
      "2018-12-26 20:07:03,048 - root - INFO: total steps 198656, returns 176.88/176.88/176.88/176.88 (mean/median/min/max), 1235.11 steps/s\n",
      "2018-12-26 20:07:04,741 - root - INFO: total steps 200704, returns 185.14/185.14/184.42/185.87 (mean/median/min/max), 1209.96 steps/s\n"
     ]
    }
   ],
   "source": [
    "ppo_agent = ppo_continuous('BipedalWalker-v2')"
   ]
  },
  {
   "cell_type": "code",
   "execution_count": 15,
   "metadata": {},
   "outputs": [
    {
     "name": "stdout",
     "output_type": "stream",
     "text": [
      "\u001b[33mWARN: gym.spaces.Box autodetected dtype as <class 'numpy.float32'>. Please provide explicit dtype.\u001b[0m\n",
      "\u001b[33mWARN: gym.spaces.Box autodetected dtype as <class 'numpy.float32'>. Please provide explicit dtype.\u001b[0m\n"
     ]
    }
   ],
   "source": [
    "# define env\n",
    "env = gym.make('BipedalWalker-v2')"
   ]
  },
  {
   "cell_type": "code",
   "execution_count": 16,
   "metadata": {},
   "outputs": [],
   "source": [
    "# function to animate a list of frames\n",
    "def animate_frames(frames):\n",
    "    plt.figure(dpi = 72)\n",
    "    plt.axis('off')\n",
    "\n",
    "    # color option for plotting\n",
    "    # use Greys for greyscale\n",
    "    cmap = None if len(frames[0].shape)==3 else 'Greys'\n",
    "    patch = plt.imshow(frames[0], cmap=cmap)  \n",
    "\n",
    "    fanim = animation.FuncAnimation(plt.gcf(), \\\n",
    "        lambda x: patch.set_data(frames[x]), frames = len(frames), interval=30)\n",
    "    \n",
    "    display(display_animation(fanim, default_mode='once'))"
   ]
  },
  {
   "cell_type": "code",
   "execution_count": null,
   "metadata": {},
   "outputs": [
    {
     "name": "stderr",
     "output_type": "stream",
     "text": [
      "2018-12-26 20:11:33,913 - matplotlib.animation - INFO: Animation.save using <class 'JSAnimation.html_writer.HTMLWriter'>\n"
     ]
    },
    {
     "name": "stdout",
     "output_type": "stream",
     "text": [
      "Total reward: 93.76869755497214\n"
     ]
    }
   ],
   "source": [
    "frames = []\n",
    "state = env.reset()\n",
    "total_reward = 0\n",
    "for t in range(1000):\n",
    "    action = ppo_agent.act(state).numpy()[0]\n",
    "    frames.append(env.render(mode='rgb_array')) \n",
    "    next_state, reward, done, _ = env.step(action)\n",
    "    state=next_state\n",
    "    total_reward+= reward\n",
    "    if done:\n",
    "        break\n",
    "print (\"Total reward:\",total_reward)\n",
    "env.close()\n",
    "animate_frames(frames)"
   ]
  },
  {
   "cell_type": "code",
   "execution_count": null,
   "metadata": {},
   "outputs": [],
   "source": []
  }
 ],
 "metadata": {
  "kernelspec": {
   "display_name": "cv3",
   "language": "python",
   "name": "cv3"
  },
  "language_info": {
   "codemirror_mode": {
    "name": "ipython",
    "version": 3
   },
   "file_extension": ".py",
   "mimetype": "text/x-python",
   "name": "python",
   "nbconvert_exporter": "python",
   "pygments_lexer": "ipython3",
   "version": "3.6.6"
  }
 },
 "nbformat": 4,
 "nbformat_minor": 2
}
